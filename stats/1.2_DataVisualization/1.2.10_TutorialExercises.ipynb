{
  "cells": [
    {
      "cell_type": "markdown",
      "id": "3e2946bc",
      "metadata": {
        "id": "3e2946bc"
      },
      "source": [
        "# Tutorial Exercises\n",
        "\n",
        "In these exercises you will practice:\n",
        "* Creating plots with Python\n",
        "* Choosing appropriate plots for the question at hand\n",
        "* Tweaking plots to make clear the important features of the data\n",
        "* Adding comments that make the interpretation of plots clear\n",
        "\n",
        "We will use some of the example datasets provided with `Seaborn`"
      ]
    },
    {
      "cell_type": "code",
      "execution_count": 2,
      "id": "844ae29e",
      "metadata": {
        "id": "844ae29e"
      },
      "outputs": [],
      "source": [
        "# Set-up Python libraries - you need to run this but you don't need to change it\n",
        "import numpy as np\n",
        "import matplotlib.pyplot as plt\n",
        "import scipy.stats as stats\n",
        "import pandas as pd\n",
        "import seaborn as sns\n",
        "sns.set_theme(style='white')\n",
        "import statsmodels.api as sm\n",
        "import statsmodels.formula.api as smf"
      ]
    },
    {
      "cell_type": "markdown",
      "id": "28fe2ca7",
      "metadata": {
        "id": "28fe2ca7"
      },
      "source": [
        "## 1. Titanic Data\n",
        "\n",
        "The Titanic dataset contains information on 891 passengers from the Titanic.\n",
        "\n",
        "<img src=\"https://raw.githubusercontent.com/jillxoreilly/StatsCourseBook_2024/main/images/titanic.jpg\" width=50% alt=\"Picture of the Titanic\" />\n",
        "\n",
        "\n",
        "This is actually a popular dataset for people starting out with machine learning - the task is to build a model to predict who survived (you may like to try this yourself after commpleting the session on Logistic Regression after Easter).\n",
        "\n",
        "For now let's use some plot to look at the factors affecting survival.\n",
        "\n",
        "The dataset contains the following information on each passenger:\n",
        "\n",
        "* **survived** 0 = No, 1 = Yes\n",
        "* **pclass** \tTicket class -\t1 = 1st, 2 = 2nd, 3 = 3rd\n",
        "* **sex**\n",
        "* **age** \tAge in years\n",
        "* **sibsp** \tnumber of siblings and/or spouses aboard the Titanic\n",
        "* **parch** \tnumber of parents / children aboard the Titanic\n",
        "* **fare** \tPassenger fare\n",
        "* **embarked** \tPort of Embarkation -\tC = Cherbourg, Q = Queenstown, S = Southampton\n",
        "* **class** Ticket class as a string\n",
        "* **who**  man, woman or child\n",
        "* **deck** \tthe deck on which they slept\n",
        "* **alive** same as survived, but strings\n",
        "* **alone**  <tt>True</tt> only if sibsp and parch are zero\n",
        "\n",
        "\n",
        "The Titanic dataset is supplied as one of the example datasets with `Seaborn`, so is stored on yuour computer with all the other files for `Seaborn`. We can load it using the special function `sns.load_dataset()`"
      ]
    },
    {
      "cell_type": "code",
      "execution_count": 3,
      "id": "0bc10f01",
      "metadata": {
        "id": "0bc10f01",
        "outputId": "485aa4cd-db55-40d6-ad99-15f2458da4b5",
        "colab": {
          "base_uri": "https://localhost:8080/",
          "height": 424
        }
      },
      "outputs": [
        {
          "output_type": "execute_result",
          "data": {
            "text/plain": [
              "     survived  pclass     sex   age  sibsp  parch     fare embarked   class  \\\n",
              "0           0       3    male  22.0      1      0   7.2500        S   Third   \n",
              "1           1       1  female  38.0      1      0  71.2833        C   First   \n",
              "2           1       3  female  26.0      0      0   7.9250        S   Third   \n",
              "3           1       1  female  35.0      1      0  53.1000        S   First   \n",
              "4           0       3    male  35.0      0      0   8.0500        S   Third   \n",
              "..        ...     ...     ...   ...    ...    ...      ...      ...     ...   \n",
              "886         0       2    male  27.0      0      0  13.0000        S  Second   \n",
              "887         1       1  female  19.0      0      0  30.0000        S   First   \n",
              "888         0       3  female   NaN      1      2  23.4500        S   Third   \n",
              "889         1       1    male  26.0      0      0  30.0000        C   First   \n",
              "890         0       3    male  32.0      0      0   7.7500        Q   Third   \n",
              "\n",
              "       who  adult_male deck  embark_town alive  alone  \n",
              "0      man        True  NaN  Southampton    no  False  \n",
              "1    woman       False    C    Cherbourg   yes  False  \n",
              "2    woman       False  NaN  Southampton   yes   True  \n",
              "3    woman       False    C  Southampton   yes  False  \n",
              "4      man        True  NaN  Southampton    no   True  \n",
              "..     ...         ...  ...          ...   ...    ...  \n",
              "886    man        True  NaN  Southampton    no   True  \n",
              "887  woman       False    B  Southampton   yes   True  \n",
              "888  woman       False  NaN  Southampton    no  False  \n",
              "889    man        True    C    Cherbourg   yes   True  \n",
              "890    man        True  NaN   Queenstown    no   True  \n",
              "\n",
              "[891 rows x 15 columns]"
            ],
            "text/html": [
              "\n",
              "  <div id=\"df-858b94c6-75c3-485a-bf44-4c520b7df272\" class=\"colab-df-container\">\n",
              "    <div>\n",
              "<style scoped>\n",
              "    .dataframe tbody tr th:only-of-type {\n",
              "        vertical-align: middle;\n",
              "    }\n",
              "\n",
              "    .dataframe tbody tr th {\n",
              "        vertical-align: top;\n",
              "    }\n",
              "\n",
              "    .dataframe thead th {\n",
              "        text-align: right;\n",
              "    }\n",
              "</style>\n",
              "<table border=\"1\" class=\"dataframe\">\n",
              "  <thead>\n",
              "    <tr style=\"text-align: right;\">\n",
              "      <th></th>\n",
              "      <th>survived</th>\n",
              "      <th>pclass</th>\n",
              "      <th>sex</th>\n",
              "      <th>age</th>\n",
              "      <th>sibsp</th>\n",
              "      <th>parch</th>\n",
              "      <th>fare</th>\n",
              "      <th>embarked</th>\n",
              "      <th>class</th>\n",
              "      <th>who</th>\n",
              "      <th>adult_male</th>\n",
              "      <th>deck</th>\n",
              "      <th>embark_town</th>\n",
              "      <th>alive</th>\n",
              "      <th>alone</th>\n",
              "    </tr>\n",
              "  </thead>\n",
              "  <tbody>\n",
              "    <tr>\n",
              "      <th>0</th>\n",
              "      <td>0</td>\n",
              "      <td>3</td>\n",
              "      <td>male</td>\n",
              "      <td>22.0</td>\n",
              "      <td>1</td>\n",
              "      <td>0</td>\n",
              "      <td>7.2500</td>\n",
              "      <td>S</td>\n",
              "      <td>Third</td>\n",
              "      <td>man</td>\n",
              "      <td>True</td>\n",
              "      <td>NaN</td>\n",
              "      <td>Southampton</td>\n",
              "      <td>no</td>\n",
              "      <td>False</td>\n",
              "    </tr>\n",
              "    <tr>\n",
              "      <th>1</th>\n",
              "      <td>1</td>\n",
              "      <td>1</td>\n",
              "      <td>female</td>\n",
              "      <td>38.0</td>\n",
              "      <td>1</td>\n",
              "      <td>0</td>\n",
              "      <td>71.2833</td>\n",
              "      <td>C</td>\n",
              "      <td>First</td>\n",
              "      <td>woman</td>\n",
              "      <td>False</td>\n",
              "      <td>C</td>\n",
              "      <td>Cherbourg</td>\n",
              "      <td>yes</td>\n",
              "      <td>False</td>\n",
              "    </tr>\n",
              "    <tr>\n",
              "      <th>2</th>\n",
              "      <td>1</td>\n",
              "      <td>3</td>\n",
              "      <td>female</td>\n",
              "      <td>26.0</td>\n",
              "      <td>0</td>\n",
              "      <td>0</td>\n",
              "      <td>7.9250</td>\n",
              "      <td>S</td>\n",
              "      <td>Third</td>\n",
              "      <td>woman</td>\n",
              "      <td>False</td>\n",
              "      <td>NaN</td>\n",
              "      <td>Southampton</td>\n",
              "      <td>yes</td>\n",
              "      <td>True</td>\n",
              "    </tr>\n",
              "    <tr>\n",
              "      <th>3</th>\n",
              "      <td>1</td>\n",
              "      <td>1</td>\n",
              "      <td>female</td>\n",
              "      <td>35.0</td>\n",
              "      <td>1</td>\n",
              "      <td>0</td>\n",
              "      <td>53.1000</td>\n",
              "      <td>S</td>\n",
              "      <td>First</td>\n",
              "      <td>woman</td>\n",
              "      <td>False</td>\n",
              "      <td>C</td>\n",
              "      <td>Southampton</td>\n",
              "      <td>yes</td>\n",
              "      <td>False</td>\n",
              "    </tr>\n",
              "    <tr>\n",
              "      <th>4</th>\n",
              "      <td>0</td>\n",
              "      <td>3</td>\n",
              "      <td>male</td>\n",
              "      <td>35.0</td>\n",
              "      <td>0</td>\n",
              "      <td>0</td>\n",
              "      <td>8.0500</td>\n",
              "      <td>S</td>\n",
              "      <td>Third</td>\n",
              "      <td>man</td>\n",
              "      <td>True</td>\n",
              "      <td>NaN</td>\n",
              "      <td>Southampton</td>\n",
              "      <td>no</td>\n",
              "      <td>True</td>\n",
              "    </tr>\n",
              "    <tr>\n",
              "      <th>...</th>\n",
              "      <td>...</td>\n",
              "      <td>...</td>\n",
              "      <td>...</td>\n",
              "      <td>...</td>\n",
              "      <td>...</td>\n",
              "      <td>...</td>\n",
              "      <td>...</td>\n",
              "      <td>...</td>\n",
              "      <td>...</td>\n",
              "      <td>...</td>\n",
              "      <td>...</td>\n",
              "      <td>...</td>\n",
              "      <td>...</td>\n",
              "      <td>...</td>\n",
              "      <td>...</td>\n",
              "    </tr>\n",
              "    <tr>\n",
              "      <th>886</th>\n",
              "      <td>0</td>\n",
              "      <td>2</td>\n",
              "      <td>male</td>\n",
              "      <td>27.0</td>\n",
              "      <td>0</td>\n",
              "      <td>0</td>\n",
              "      <td>13.0000</td>\n",
              "      <td>S</td>\n",
              "      <td>Second</td>\n",
              "      <td>man</td>\n",
              "      <td>True</td>\n",
              "      <td>NaN</td>\n",
              "      <td>Southampton</td>\n",
              "      <td>no</td>\n",
              "      <td>True</td>\n",
              "    </tr>\n",
              "    <tr>\n",
              "      <th>887</th>\n",
              "      <td>1</td>\n",
              "      <td>1</td>\n",
              "      <td>female</td>\n",
              "      <td>19.0</td>\n",
              "      <td>0</td>\n",
              "      <td>0</td>\n",
              "      <td>30.0000</td>\n",
              "      <td>S</td>\n",
              "      <td>First</td>\n",
              "      <td>woman</td>\n",
              "      <td>False</td>\n",
              "      <td>B</td>\n",
              "      <td>Southampton</td>\n",
              "      <td>yes</td>\n",
              "      <td>True</td>\n",
              "    </tr>\n",
              "    <tr>\n",
              "      <th>888</th>\n",
              "      <td>0</td>\n",
              "      <td>3</td>\n",
              "      <td>female</td>\n",
              "      <td>NaN</td>\n",
              "      <td>1</td>\n",
              "      <td>2</td>\n",
              "      <td>23.4500</td>\n",
              "      <td>S</td>\n",
              "      <td>Third</td>\n",
              "      <td>woman</td>\n",
              "      <td>False</td>\n",
              "      <td>NaN</td>\n",
              "      <td>Southampton</td>\n",
              "      <td>no</td>\n",
              "      <td>False</td>\n",
              "    </tr>\n",
              "    <tr>\n",
              "      <th>889</th>\n",
              "      <td>1</td>\n",
              "      <td>1</td>\n",
              "      <td>male</td>\n",
              "      <td>26.0</td>\n",
              "      <td>0</td>\n",
              "      <td>0</td>\n",
              "      <td>30.0000</td>\n",
              "      <td>C</td>\n",
              "      <td>First</td>\n",
              "      <td>man</td>\n",
              "      <td>True</td>\n",
              "      <td>C</td>\n",
              "      <td>Cherbourg</td>\n",
              "      <td>yes</td>\n",
              "      <td>True</td>\n",
              "    </tr>\n",
              "    <tr>\n",
              "      <th>890</th>\n",
              "      <td>0</td>\n",
              "      <td>3</td>\n",
              "      <td>male</td>\n",
              "      <td>32.0</td>\n",
              "      <td>0</td>\n",
              "      <td>0</td>\n",
              "      <td>7.7500</td>\n",
              "      <td>Q</td>\n",
              "      <td>Third</td>\n",
              "      <td>man</td>\n",
              "      <td>True</td>\n",
              "      <td>NaN</td>\n",
              "      <td>Queenstown</td>\n",
              "      <td>no</td>\n",
              "      <td>True</td>\n",
              "    </tr>\n",
              "  </tbody>\n",
              "</table>\n",
              "<p>891 rows × 15 columns</p>\n",
              "</div>\n",
              "    <div class=\"colab-df-buttons\">\n",
              "\n",
              "  <div class=\"colab-df-container\">\n",
              "    <button class=\"colab-df-convert\" onclick=\"convertToInteractive('df-858b94c6-75c3-485a-bf44-4c520b7df272')\"\n",
              "            title=\"Convert this dataframe to an interactive table.\"\n",
              "            style=\"display:none;\">\n",
              "\n",
              "  <svg xmlns=\"http://www.w3.org/2000/svg\" height=\"24px\" viewBox=\"0 -960 960 960\">\n",
              "    <path d=\"M120-120v-720h720v720H120Zm60-500h600v-160H180v160Zm220 220h160v-160H400v160Zm0 220h160v-160H400v160ZM180-400h160v-160H180v160Zm440 0h160v-160H620v160ZM180-180h160v-160H180v160Zm440 0h160v-160H620v160Z\"/>\n",
              "  </svg>\n",
              "    </button>\n",
              "\n",
              "  <style>\n",
              "    .colab-df-container {\n",
              "      display:flex;\n",
              "      gap: 12px;\n",
              "    }\n",
              "\n",
              "    .colab-df-convert {\n",
              "      background-color: #E8F0FE;\n",
              "      border: none;\n",
              "      border-radius: 50%;\n",
              "      cursor: pointer;\n",
              "      display: none;\n",
              "      fill: #1967D2;\n",
              "      height: 32px;\n",
              "      padding: 0 0 0 0;\n",
              "      width: 32px;\n",
              "    }\n",
              "\n",
              "    .colab-df-convert:hover {\n",
              "      background-color: #E2EBFA;\n",
              "      box-shadow: 0px 1px 2px rgba(60, 64, 67, 0.3), 0px 1px 3px 1px rgba(60, 64, 67, 0.15);\n",
              "      fill: #174EA6;\n",
              "    }\n",
              "\n",
              "    .colab-df-buttons div {\n",
              "      margin-bottom: 4px;\n",
              "    }\n",
              "\n",
              "    [theme=dark] .colab-df-convert {\n",
              "      background-color: #3B4455;\n",
              "      fill: #D2E3FC;\n",
              "    }\n",
              "\n",
              "    [theme=dark] .colab-df-convert:hover {\n",
              "      background-color: #434B5C;\n",
              "      box-shadow: 0px 1px 3px 1px rgba(0, 0, 0, 0.15);\n",
              "      filter: drop-shadow(0px 1px 2px rgba(0, 0, 0, 0.3));\n",
              "      fill: #FFFFFF;\n",
              "    }\n",
              "  </style>\n",
              "\n",
              "    <script>\n",
              "      const buttonEl =\n",
              "        document.querySelector('#df-858b94c6-75c3-485a-bf44-4c520b7df272 button.colab-df-convert');\n",
              "      buttonEl.style.display =\n",
              "        google.colab.kernel.accessAllowed ? 'block' : 'none';\n",
              "\n",
              "      async function convertToInteractive(key) {\n",
              "        const element = document.querySelector('#df-858b94c6-75c3-485a-bf44-4c520b7df272');\n",
              "        const dataTable =\n",
              "          await google.colab.kernel.invokeFunction('convertToInteractive',\n",
              "                                                    [key], {});\n",
              "        if (!dataTable) return;\n",
              "\n",
              "        const docLinkHtml = 'Like what you see? Visit the ' +\n",
              "          '<a target=\"_blank\" href=https://colab.research.google.com/notebooks/data_table.ipynb>data table notebook</a>'\n",
              "          + ' to learn more about interactive tables.';\n",
              "        element.innerHTML = '';\n",
              "        dataTable['output_type'] = 'display_data';\n",
              "        await google.colab.output.renderOutput(dataTable, element);\n",
              "        const docLink = document.createElement('div');\n",
              "        docLink.innerHTML = docLinkHtml;\n",
              "        element.appendChild(docLink);\n",
              "      }\n",
              "    </script>\n",
              "  </div>\n",
              "\n",
              "\n",
              "    <div id=\"df-d667c2e3-6ccb-438c-b4a1-148c079c1ca9\">\n",
              "      <button class=\"colab-df-quickchart\" onclick=\"quickchart('df-d667c2e3-6ccb-438c-b4a1-148c079c1ca9')\"\n",
              "                title=\"Suggest charts\"\n",
              "                style=\"display:none;\">\n",
              "\n",
              "<svg xmlns=\"http://www.w3.org/2000/svg\" height=\"24px\"viewBox=\"0 0 24 24\"\n",
              "     width=\"24px\">\n",
              "    <g>\n",
              "        <path d=\"M19 3H5c-1.1 0-2 .9-2 2v14c0 1.1.9 2 2 2h14c1.1 0 2-.9 2-2V5c0-1.1-.9-2-2-2zM9 17H7v-7h2v7zm4 0h-2V7h2v10zm4 0h-2v-4h2v4z\"/>\n",
              "    </g>\n",
              "</svg>\n",
              "      </button>\n",
              "\n",
              "<style>\n",
              "  .colab-df-quickchart {\n",
              "      --bg-color: #E8F0FE;\n",
              "      --fill-color: #1967D2;\n",
              "      --hover-bg-color: #E2EBFA;\n",
              "      --hover-fill-color: #174EA6;\n",
              "      --disabled-fill-color: #AAA;\n",
              "      --disabled-bg-color: #DDD;\n",
              "  }\n",
              "\n",
              "  [theme=dark] .colab-df-quickchart {\n",
              "      --bg-color: #3B4455;\n",
              "      --fill-color: #D2E3FC;\n",
              "      --hover-bg-color: #434B5C;\n",
              "      --hover-fill-color: #FFFFFF;\n",
              "      --disabled-bg-color: #3B4455;\n",
              "      --disabled-fill-color: #666;\n",
              "  }\n",
              "\n",
              "  .colab-df-quickchart {\n",
              "    background-color: var(--bg-color);\n",
              "    border: none;\n",
              "    border-radius: 50%;\n",
              "    cursor: pointer;\n",
              "    display: none;\n",
              "    fill: var(--fill-color);\n",
              "    height: 32px;\n",
              "    padding: 0;\n",
              "    width: 32px;\n",
              "  }\n",
              "\n",
              "  .colab-df-quickchart:hover {\n",
              "    background-color: var(--hover-bg-color);\n",
              "    box-shadow: 0 1px 2px rgba(60, 64, 67, 0.3), 0 1px 3px 1px rgba(60, 64, 67, 0.15);\n",
              "    fill: var(--button-hover-fill-color);\n",
              "  }\n",
              "\n",
              "  .colab-df-quickchart-complete:disabled,\n",
              "  .colab-df-quickchart-complete:disabled:hover {\n",
              "    background-color: var(--disabled-bg-color);\n",
              "    fill: var(--disabled-fill-color);\n",
              "    box-shadow: none;\n",
              "  }\n",
              "\n",
              "  .colab-df-spinner {\n",
              "    border: 2px solid var(--fill-color);\n",
              "    border-color: transparent;\n",
              "    border-bottom-color: var(--fill-color);\n",
              "    animation:\n",
              "      spin 1s steps(1) infinite;\n",
              "  }\n",
              "\n",
              "  @keyframes spin {\n",
              "    0% {\n",
              "      border-color: transparent;\n",
              "      border-bottom-color: var(--fill-color);\n",
              "      border-left-color: var(--fill-color);\n",
              "    }\n",
              "    20% {\n",
              "      border-color: transparent;\n",
              "      border-left-color: var(--fill-color);\n",
              "      border-top-color: var(--fill-color);\n",
              "    }\n",
              "    30% {\n",
              "      border-color: transparent;\n",
              "      border-left-color: var(--fill-color);\n",
              "      border-top-color: var(--fill-color);\n",
              "      border-right-color: var(--fill-color);\n",
              "    }\n",
              "    40% {\n",
              "      border-color: transparent;\n",
              "      border-right-color: var(--fill-color);\n",
              "      border-top-color: var(--fill-color);\n",
              "    }\n",
              "    60% {\n",
              "      border-color: transparent;\n",
              "      border-right-color: var(--fill-color);\n",
              "    }\n",
              "    80% {\n",
              "      border-color: transparent;\n",
              "      border-right-color: var(--fill-color);\n",
              "      border-bottom-color: var(--fill-color);\n",
              "    }\n",
              "    90% {\n",
              "      border-color: transparent;\n",
              "      border-bottom-color: var(--fill-color);\n",
              "    }\n",
              "  }\n",
              "</style>\n",
              "\n",
              "      <script>\n",
              "        async function quickchart(key) {\n",
              "          const quickchartButtonEl =\n",
              "            document.querySelector('#' + key + ' button');\n",
              "          quickchartButtonEl.disabled = true;  // To prevent multiple clicks.\n",
              "          quickchartButtonEl.classList.add('colab-df-spinner');\n",
              "          try {\n",
              "            const charts = await google.colab.kernel.invokeFunction(\n",
              "                'suggestCharts', [key], {});\n",
              "          } catch (error) {\n",
              "            console.error('Error during call to suggestCharts:', error);\n",
              "          }\n",
              "          quickchartButtonEl.classList.remove('colab-df-spinner');\n",
              "          quickchartButtonEl.classList.add('colab-df-quickchart-complete');\n",
              "        }\n",
              "        (() => {\n",
              "          let quickchartButtonEl =\n",
              "            document.querySelector('#df-d667c2e3-6ccb-438c-b4a1-148c079c1ca9 button');\n",
              "          quickchartButtonEl.style.display =\n",
              "            google.colab.kernel.accessAllowed ? 'block' : 'none';\n",
              "        })();\n",
              "      </script>\n",
              "    </div>\n",
              "\n",
              "  <div id=\"id_ea1b2a55-c799-4398-84ab-06ef6693e674\">\n",
              "    <style>\n",
              "      .colab-df-generate {\n",
              "        background-color: #E8F0FE;\n",
              "        border: none;\n",
              "        border-radius: 50%;\n",
              "        cursor: pointer;\n",
              "        display: none;\n",
              "        fill: #1967D2;\n",
              "        height: 32px;\n",
              "        padding: 0 0 0 0;\n",
              "        width: 32px;\n",
              "      }\n",
              "\n",
              "      .colab-df-generate:hover {\n",
              "        background-color: #E2EBFA;\n",
              "        box-shadow: 0px 1px 2px rgba(60, 64, 67, 0.3), 0px 1px 3px 1px rgba(60, 64, 67, 0.15);\n",
              "        fill: #174EA6;\n",
              "      }\n",
              "\n",
              "      [theme=dark] .colab-df-generate {\n",
              "        background-color: #3B4455;\n",
              "        fill: #D2E3FC;\n",
              "      }\n",
              "\n",
              "      [theme=dark] .colab-df-generate:hover {\n",
              "        background-color: #434B5C;\n",
              "        box-shadow: 0px 1px 3px 1px rgba(0, 0, 0, 0.15);\n",
              "        filter: drop-shadow(0px 1px 2px rgba(0, 0, 0, 0.3));\n",
              "        fill: #FFFFFF;\n",
              "      }\n",
              "    </style>\n",
              "    <button class=\"colab-df-generate\" onclick=\"generateWithVariable('titanic')\"\n",
              "            title=\"Generate code using this dataframe.\"\n",
              "            style=\"display:none;\">\n",
              "\n",
              "  <svg xmlns=\"http://www.w3.org/2000/svg\" height=\"24px\"viewBox=\"0 0 24 24\"\n",
              "       width=\"24px\">\n",
              "    <path d=\"M7,19H8.4L18.45,9,17,7.55,7,17.6ZM5,21V16.75L18.45,3.32a2,2,0,0,1,2.83,0l1.4,1.43a1.91,1.91,0,0,1,.58,1.4,1.91,1.91,0,0,1-.58,1.4L9.25,21ZM18.45,9,17,7.55Zm-12,3A5.31,5.31,0,0,0,4.9,8.1,5.31,5.31,0,0,0,1,6.5,5.31,5.31,0,0,0,4.9,4.9,5.31,5.31,0,0,0,6.5,1,5.31,5.31,0,0,0,8.1,4.9,5.31,5.31,0,0,0,12,6.5,5.46,5.46,0,0,0,6.5,12Z\"/>\n",
              "  </svg>\n",
              "    </button>\n",
              "    <script>\n",
              "      (() => {\n",
              "      const buttonEl =\n",
              "        document.querySelector('#id_ea1b2a55-c799-4398-84ab-06ef6693e674 button.colab-df-generate');\n",
              "      buttonEl.style.display =\n",
              "        google.colab.kernel.accessAllowed ? 'block' : 'none';\n",
              "\n",
              "      buttonEl.onclick = () => {\n",
              "        google.colab.notebook.generateWithVariable('titanic');\n",
              "      }\n",
              "      })();\n",
              "    </script>\n",
              "  </div>\n",
              "\n",
              "    </div>\n",
              "  </div>\n"
            ],
            "application/vnd.google.colaboratory.intrinsic+json": {
              "type": "dataframe",
              "variable_name": "titanic",
              "summary": "{\n  \"name\": \"titanic\",\n  \"rows\": 891,\n  \"fields\": [\n    {\n      \"column\": \"survived\",\n      \"properties\": {\n        \"dtype\": \"number\",\n        \"std\": 0,\n        \"min\": 0,\n        \"max\": 1,\n        \"num_unique_values\": 2,\n        \"samples\": [\n          1,\n          0\n        ],\n        \"semantic_type\": \"\",\n        \"description\": \"\"\n      }\n    },\n    {\n      \"column\": \"pclass\",\n      \"properties\": {\n        \"dtype\": \"number\",\n        \"std\": 0,\n        \"min\": 1,\n        \"max\": 3,\n        \"num_unique_values\": 3,\n        \"samples\": [\n          3,\n          1\n        ],\n        \"semantic_type\": \"\",\n        \"description\": \"\"\n      }\n    },\n    {\n      \"column\": \"sex\",\n      \"properties\": {\n        \"dtype\": \"category\",\n        \"num_unique_values\": 2,\n        \"samples\": [\n          \"female\",\n          \"male\"\n        ],\n        \"semantic_type\": \"\",\n        \"description\": \"\"\n      }\n    },\n    {\n      \"column\": \"age\",\n      \"properties\": {\n        \"dtype\": \"number\",\n        \"std\": 14.526497332334044,\n        \"min\": 0.42,\n        \"max\": 80.0,\n        \"num_unique_values\": 88,\n        \"samples\": [\n          0.75,\n          22.0\n        ],\n        \"semantic_type\": \"\",\n        \"description\": \"\"\n      }\n    },\n    {\n      \"column\": \"sibsp\",\n      \"properties\": {\n        \"dtype\": \"number\",\n        \"std\": 1,\n        \"min\": 0,\n        \"max\": 8,\n        \"num_unique_values\": 7,\n        \"samples\": [\n          1,\n          0\n        ],\n        \"semantic_type\": \"\",\n        \"description\": \"\"\n      }\n    },\n    {\n      \"column\": \"parch\",\n      \"properties\": {\n        \"dtype\": \"number\",\n        \"std\": 0,\n        \"min\": 0,\n        \"max\": 6,\n        \"num_unique_values\": 7,\n        \"samples\": [\n          0,\n          1\n        ],\n        \"semantic_type\": \"\",\n        \"description\": \"\"\n      }\n    },\n    {\n      \"column\": \"fare\",\n      \"properties\": {\n        \"dtype\": \"number\",\n        \"std\": 49.693428597180905,\n        \"min\": 0.0,\n        \"max\": 512.3292,\n        \"num_unique_values\": 248,\n        \"samples\": [\n          11.2417,\n          51.8625\n        ],\n        \"semantic_type\": \"\",\n        \"description\": \"\"\n      }\n    },\n    {\n      \"column\": \"embarked\",\n      \"properties\": {\n        \"dtype\": \"category\",\n        \"num_unique_values\": 3,\n        \"samples\": [\n          \"S\",\n          \"C\"\n        ],\n        \"semantic_type\": \"\",\n        \"description\": \"\"\n      }\n    },\n    {\n      \"column\": \"class\",\n      \"properties\": {\n        \"dtype\": \"category\",\n        \"num_unique_values\": 3,\n        \"samples\": [\n          \"Third\",\n          \"First\"\n        ],\n        \"semantic_type\": \"\",\n        \"description\": \"\"\n      }\n    },\n    {\n      \"column\": \"who\",\n      \"properties\": {\n        \"dtype\": \"category\",\n        \"num_unique_values\": 3,\n        \"samples\": [\n          \"man\",\n          \"woman\"\n        ],\n        \"semantic_type\": \"\",\n        \"description\": \"\"\n      }\n    },\n    {\n      \"column\": \"adult_male\",\n      \"properties\": {\n        \"dtype\": \"boolean\",\n        \"num_unique_values\": 2,\n        \"samples\": [\n          false,\n          true\n        ],\n        \"semantic_type\": \"\",\n        \"description\": \"\"\n      }\n    },\n    {\n      \"column\": \"deck\",\n      \"properties\": {\n        \"dtype\": \"category\",\n        \"num_unique_values\": 7,\n        \"samples\": [\n          \"C\",\n          \"E\"\n        ],\n        \"semantic_type\": \"\",\n        \"description\": \"\"\n      }\n    },\n    {\n      \"column\": \"embark_town\",\n      \"properties\": {\n        \"dtype\": \"category\",\n        \"num_unique_values\": 3,\n        \"samples\": [\n          \"Southampton\",\n          \"Cherbourg\"\n        ],\n        \"semantic_type\": \"\",\n        \"description\": \"\"\n      }\n    },\n    {\n      \"column\": \"alive\",\n      \"properties\": {\n        \"dtype\": \"category\",\n        \"num_unique_values\": 2,\n        \"samples\": [\n          \"yes\",\n          \"no\"\n        ],\n        \"semantic_type\": \"\",\n        \"description\": \"\"\n      }\n    },\n    {\n      \"column\": \"alone\",\n      \"properties\": {\n        \"dtype\": \"boolean\",\n        \"num_unique_values\": 2,\n        \"samples\": [\n          true,\n          false\n        ],\n        \"semantic_type\": \"\",\n        \"description\": \"\"\n      }\n    }\n  ]\n}"
            }
          },
          "metadata": {},
          "execution_count": 3
        }
      ],
      "source": [
        "# load the data - special syntax here for loading a Seaborn example dataset\n",
        "titanic = sns.load_dataset('titanic')\n",
        "titanic"
      ]
    },
    {
      "cell_type": "markdown",
      "id": "567a3fcb",
      "metadata": {
        "id": "567a3fcb"
      },
      "source": [
        "Let's first have a look at who the passengers were"
      ]
    },
    {
      "cell_type": "markdown",
      "id": "ac90b345",
      "metadata": {
        "id": "ac90b345"
      },
      "source": [
        "**a. Were there equal numbers of men and women in each class?**"
      ]
    },
    {
      "cell_type": "code",
      "execution_count": 4,
      "id": "f186ae13",
      "metadata": {
        "id": "f186ae13",
        "outputId": "4acc868b-73c6-4c85-9a84-24380ecc3986",
        "colab": {
          "base_uri": "https://localhost:8080/",
          "height": 178
        }
      },
      "outputs": [
        {
          "output_type": "execute_result",
          "data": {
            "text/plain": [
              "sex\n",
              "male      577\n",
              "female    314\n",
              "Name: count, dtype: int64"
            ],
            "text/html": [
              "<div>\n",
              "<style scoped>\n",
              "    .dataframe tbody tr th:only-of-type {\n",
              "        vertical-align: middle;\n",
              "    }\n",
              "\n",
              "    .dataframe tbody tr th {\n",
              "        vertical-align: top;\n",
              "    }\n",
              "\n",
              "    .dataframe thead th {\n",
              "        text-align: right;\n",
              "    }\n",
              "</style>\n",
              "<table border=\"1\" class=\"dataframe\">\n",
              "  <thead>\n",
              "    <tr style=\"text-align: right;\">\n",
              "      <th></th>\n",
              "      <th>count</th>\n",
              "    </tr>\n",
              "    <tr>\n",
              "      <th>sex</th>\n",
              "      <th></th>\n",
              "    </tr>\n",
              "  </thead>\n",
              "  <tbody>\n",
              "    <tr>\n",
              "      <th>male</th>\n",
              "      <td>577</td>\n",
              "    </tr>\n",
              "    <tr>\n",
              "      <th>female</th>\n",
              "      <td>314</td>\n",
              "    </tr>\n",
              "  </tbody>\n",
              "</table>\n",
              "</div><br><label><b>dtype:</b> int64</label>"
            ]
          },
          "metadata": {},
          "execution_count": 4
        }
      ],
      "source": [
        "titanic[\"sex\"].value_counts()"
      ]
    },
    {
      "cell_type": "markdown",
      "id": "71b33fb4",
      "metadata": {
        "id": "71b33fb4"
      },
      "source": [
        "**b. What was the age distribution in each class?**\n",
        "\n",
        "You could use a violin plot or a histogram here\n",
        "\n",
        "Which is better and why?"
      ]
    },
    {
      "cell_type": "code",
      "execution_count": 5,
      "id": "4ab77571",
      "metadata": {
        "id": "4ab77571",
        "outputId": "3acaea6e-6dcd-44fb-9f60-5a7324b2e165",
        "colab": {
          "base_uri": "https://localhost:8080/",
          "height": 899
        }
      },
      "outputs": [
        {
          "output_type": "display_data",
          "data": {
            "text/plain": [
              "<Figure size 640x480 with 1 Axes>"
            ],
            "image/png": "[encoded data removed]"
          },
          "metadata": {}
        },
        {
          "output_type": "display_data",
          "data": {
            "text/plain": [
              "<Figure size 640x480 with 1 Axes>"
            ],
            "image/png": "[encoded data removed]"
          },
          "metadata": {}
        }
      ],
      "source": [
        "sns.violinplot(titanic, x=\"pclass\", y=\"age\")\n",
        "plt.show()\n",
        "for i in range(1, 4):\n",
        "  sns.histplot(titanic.query(f\"pclass == {i}\"), x=\"age\")"
      ]
    },
    {
      "cell_type": "markdown",
      "id": "1f3b2143",
      "metadata": {
        "id": "1f3b2143"
      },
      "source": [
        "**c. Were people in some classes more likely to survive?**\n",
        "\n",
        "You could use countplot or barplot here.\n",
        "\n",
        "Which is better and why?"
      ]
    },
    {
      "cell_type": "code",
      "execution_count": 47,
      "id": "937621af",
      "metadata": {
        "id": "937621af",
        "outputId": "5795e557-57ec-4f10-bce5-a49150e5ef94",
        "colab": {
          "base_uri": "https://localhost:8080/",
          "height": 951
        }
      },
      "outputs": [
        {
          "output_type": "stream",
          "name": "stdout",
          "text": [
            "Survival in class 1: 63.0%\n",
            "Survival in class 2: 47.3%\n",
            "Survival in class 3: 24.2%\n"
          ]
        },
        {
          "output_type": "display_data",
          "data": {
            "text/plain": [
              "<Figure size 640x480 with 1 Axes>"
            ],
            "image/png": "[encoded data removed]"
          },
          "metadata": {}
        },
        {
          "output_type": "display_data",
          "data": {
            "text/plain": [
              "<Figure size 640x480 with 1 Axes>"
            ],
            "image/png": "[encoded data removed]"
          },
          "metadata": {}
        }
      ],
      "source": [
        "for i in range(1, 4):\n",
        "  percentage = titanic.query(f\"pclass == {i} and alive == 'yes'\").shape[0] / titanic.query(f\"pclass == {i}\").shape[0]\n",
        "  print(f\"Survival in class {i}: {round(percentage*100, 1)}%\")\n",
        "\n",
        "sns.countplot(titanic, x=\"pclass\", label=\"total\")\n",
        "sns.countplot(titanic.query(f\"alive == 'yes'\"), x=\"pclass\", label=\"survived\")\n",
        "plt.grid()\n",
        "plt.show()\n",
        "\n",
        "sns.countplot(titanic, x=\"pclass\", hue=\"alive\", stat=\"percent\")\n",
        "plt.grid()\n",
        "plt.show()\n",
        "\n",
        "\n",
        "\n"
      ]
    },
    {
      "cell_type": "markdown",
      "id": "f4895f84",
      "metadata": {
        "id": "f4895f84"
      },
      "source": [
        "**d. Were women and children more likely to survive?**\n",
        "\n",
        "Again you could use countplot or barplot here.\n",
        "\n",
        "Which is better and why?"
      ]
    },
    {
      "cell_type": "code",
      "execution_count": 55,
      "id": "7578974b",
      "metadata": {
        "id": "7578974b",
        "outputId": "86f7360d-5c0e-4329-914c-55fef9c7dce5",
        "colab": {
          "base_uri": "https://localhost:8080/",
          "height": 493
        }
      },
      "outputs": [
        {
          "output_type": "stream",
          "name": "stdout",
          "text": [
            "Survival for women and children: 68.8%\n",
            "Survival for adult men: 17.7%\n"
          ]
        },
        {
          "output_type": "display_data",
          "data": {
            "text/plain": [
              "<Figure size 640x480 with 1 Axes>"
            ],
            "image/png": "[encoded data removed]"
          },
          "metadata": {}
        }
      ],
      "source": [
        "wch = titanic.query(\"(age < 18 or sex == 'female')\")\n",
        "men = titanic.query(\"(sex == 'male' and age >= 18)\")\n",
        "\n",
        "percentage = wch.query(\"alive == 'yes'\").shape[0] / wch.shape[0]\n",
        "print(f\"Survival for women and children: {round(percentage*100, 1)}%\")\n",
        "percentage =  men.query(\"alive == 'yes'\").shape[0] / men.shape[0]\n",
        "print(f\"Survival for adult men: {round(percentage*100, 1)}%\")\n",
        "\n",
        "\n",
        "sns.countplot(titanic, x=\"who\", label=\"total\")\n",
        "sns.countplot(titanic.query(f\"alive == 'yes'\"), x=\"who\", label=\"survived\")\n",
        "plt.grid()\n",
        "plt.legend()\n",
        "plt.show()"
      ]
    },
    {
      "cell_type": "markdown",
      "id": "18e8dc22",
      "metadata": {
        "id": "18e8dc22"
      },
      "source": [
        "**e. Does the answer to d) depend on the ticket class?**\n",
        "\n",
        "As you are now plotting a barchart with data breoken down by *two* categorical variables, you will need to set one as <tt>x</tt> and one as <tt>hue</tt>.\n",
        "\n",
        "Try it both ways and see which you think is better."
      ]
    },
    {
      "cell_type": "code",
      "execution_count": 60,
      "id": "bf7615f6",
      "metadata": {
        "id": "bf7615f6",
        "outputId": "85cb1bf7-8f03-4920-8db9-a4e657212f6d",
        "colab": {
          "base_uri": "https://localhost:8080/",
          "height": 916
        }
      },
      "outputs": [
        {
          "output_type": "display_data",
          "data": {
            "text/plain": [
              "<Figure size 640x480 with 1 Axes>"
            ],
            "image/png": "[encoded data removed]"
          },
          "metadata": {}
        },
        {
          "output_type": "execute_result",
          "data": {
            "text/plain": [
              "Text(0, 0.5, 'percentage survived [%]')"
            ]
          },
          "metadata": {},
          "execution_count": 60
        },
        {
          "output_type": "display_data",
          "data": {
            "text/plain": [
              "<Figure size 640x480 with 1 Axes>"
            ],
            "image/png": "[encoded data removed]"
          },
          "metadata": {}
        }
      ],
      "source": [
        "sns.countplot(titanic, x=\"who\", hue=\"pclass\")\n",
        "sns.countplot(titanic.query(f\"alive == 'yes'\"), x=\"who\", hue=\"pclass\")\n",
        "plt.grid()\n",
        "plt.legend()\n",
        "plt.show()\n",
        "\n",
        "titanic[\"alive_tf\"] = titanic[\"alive\"].apply(lambda alive: 100 if alive == \"yes\" else 0)\n",
        "\n",
        "sns.barplot(titanic, x=\"pclass\", hue=\"who\", y=\"alive_tf\", estimator=\"mean\")\n",
        "plt.ylabel(\"percentage survived [%]\")"
      ]
    },
    {
      "cell_type": "markdown",
      "id": "d61e20b7",
      "metadata": {
        "id": "d61e20b7"
      },
      "source": [
        "## 2. Penguin data\n",
        "\n",
        "How can we recognise penguins of different species? Let's look at the Palmer Penguins dataset which contains data on penguins from three species (Artwork by @allison_horst):\n",
        "\n",
        "<img src= \"../images/MT_wk2_penguins.png\" width=\"50%\"  />\n",
        "\n",
        "We can see that they differ in the shape of their bills, and their size.\n",
        "\n",
        "Let's load the data"
      ]
    },
    {
      "cell_type": "code",
      "execution_count": null,
      "id": "0c839688",
      "metadata": {
        "id": "0c839688",
        "outputId": "cfda7a10-c4e7-4b61-a85a-32df32dcd7a2"
      },
      "outputs": [
        {
          "data": {
            "text/html": [
              "<div>\n",
              "<style scoped>\n",
              "    .dataframe tbody tr th:only-of-type {\n",
              "        vertical-align: middle;\n",
              "    }\n",
              "\n",
              "    .dataframe tbody tr th {\n",
              "        vertical-align: top;\n",
              "    }\n",
              "\n",
              "    .dataframe thead th {\n",
              "        text-align: right;\n",
              "    }\n",
              "</style>\n",
              "<table border=\"1\" class=\"dataframe\">\n",
              "  <thead>\n",
              "    <tr style=\"text-align: right;\">\n",
              "      <th></th>\n",
              "      <th>species</th>\n",
              "      <th>island</th>\n",
              "      <th>bill_length_mm</th>\n",
              "      <th>bill_depth_mm</th>\n",
              "      <th>flipper_length_mm</th>\n",
              "      <th>body_mass_g</th>\n",
              "      <th>sex</th>\n",
              "    </tr>\n",
              "  </thead>\n",
              "  <tbody>\n",
              "    <tr>\n",
              "      <th>0</th>\n",
              "      <td>Adelie</td>\n",
              "      <td>Torgersen</td>\n",
              "      <td>39.1</td>\n",
              "      <td>18.7</td>\n",
              "      <td>181.0</td>\n",
              "      <td>3750.0</td>\n",
              "      <td>Male</td>\n",
              "    </tr>\n",
              "    <tr>\n",
              "      <th>1</th>\n",
              "      <td>Adelie</td>\n",
              "      <td>Torgersen</td>\n",
              "      <td>39.5</td>\n",
              "      <td>17.4</td>\n",
              "      <td>186.0</td>\n",
              "      <td>3800.0</td>\n",
              "      <td>Female</td>\n",
              "    </tr>\n",
              "    <tr>\n",
              "      <th>2</th>\n",
              "      <td>Adelie</td>\n",
              "      <td>Torgersen</td>\n",
              "      <td>40.3</td>\n",
              "      <td>18.0</td>\n",
              "      <td>195.0</td>\n",
              "      <td>3250.0</td>\n",
              "      <td>Female</td>\n",
              "    </tr>\n",
              "    <tr>\n",
              "      <th>3</th>\n",
              "      <td>Adelie</td>\n",
              "      <td>Torgersen</td>\n",
              "      <td>NaN</td>\n",
              "      <td>NaN</td>\n",
              "      <td>NaN</td>\n",
              "      <td>NaN</td>\n",
              "      <td>NaN</td>\n",
              "    </tr>\n",
              "    <tr>\n",
              "      <th>4</th>\n",
              "      <td>Adelie</td>\n",
              "      <td>Torgersen</td>\n",
              "      <td>36.7</td>\n",
              "      <td>19.3</td>\n",
              "      <td>193.0</td>\n",
              "      <td>3450.0</td>\n",
              "      <td>Female</td>\n",
              "    </tr>\n",
              "    <tr>\n",
              "      <th>...</th>\n",
              "      <td>...</td>\n",
              "      <td>...</td>\n",
              "      <td>...</td>\n",
              "      <td>...</td>\n",
              "      <td>...</td>\n",
              "      <td>...</td>\n",
              "      <td>...</td>\n",
              "    </tr>\n",
              "    <tr>\n",
              "      <th>339</th>\n",
              "      <td>Gentoo</td>\n",
              "      <td>Biscoe</td>\n",
              "      <td>NaN</td>\n",
              "      <td>NaN</td>\n",
              "      <td>NaN</td>\n",
              "      <td>NaN</td>\n",
              "      <td>NaN</td>\n",
              "    </tr>\n",
              "    <tr>\n",
              "      <th>340</th>\n",
              "      <td>Gentoo</td>\n",
              "      <td>Biscoe</td>\n",
              "      <td>46.8</td>\n",
              "      <td>14.3</td>\n",
              "      <td>215.0</td>\n",
              "      <td>4850.0</td>\n",
              "      <td>Female</td>\n",
              "    </tr>\n",
              "    <tr>\n",
              "      <th>341</th>\n",
              "      <td>Gentoo</td>\n",
              "      <td>Biscoe</td>\n",
              "      <td>50.4</td>\n",
              "      <td>15.7</td>\n",
              "      <td>222.0</td>\n",
              "      <td>5750.0</td>\n",
              "      <td>Male</td>\n",
              "    </tr>\n",
              "    <tr>\n",
              "      <th>342</th>\n",
              "      <td>Gentoo</td>\n",
              "      <td>Biscoe</td>\n",
              "      <td>45.2</td>\n",
              "      <td>14.8</td>\n",
              "      <td>212.0</td>\n",
              "      <td>5200.0</td>\n",
              "      <td>Female</td>\n",
              "    </tr>\n",
              "    <tr>\n",
              "      <th>343</th>\n",
              "      <td>Gentoo</td>\n",
              "      <td>Biscoe</td>\n",
              "      <td>49.9</td>\n",
              "      <td>16.1</td>\n",
              "      <td>213.0</td>\n",
              "      <td>5400.0</td>\n",
              "      <td>Male</td>\n",
              "    </tr>\n",
              "  </tbody>\n",
              "</table>\n",
              "<p>344 rows × 7 columns</p>\n",
              "</div>"
            ],
            "text/plain": [
              "    species     island  bill_length_mm  bill_depth_mm  flipper_length_mm  \\\n",
              "0    Adelie  Torgersen            39.1           18.7              181.0   \n",
              "1    Adelie  Torgersen            39.5           17.4              186.0   \n",
              "2    Adelie  Torgersen            40.3           18.0              195.0   \n",
              "3    Adelie  Torgersen             NaN            NaN                NaN   \n",
              "4    Adelie  Torgersen            36.7           19.3              193.0   \n",
              "..      ...        ...             ...            ...                ...   \n",
              "339  Gentoo     Biscoe             NaN            NaN                NaN   \n",
              "340  Gentoo     Biscoe            46.8           14.3              215.0   \n",
              "341  Gentoo     Biscoe            50.4           15.7              222.0   \n",
              "342  Gentoo     Biscoe            45.2           14.8              212.0   \n",
              "343  Gentoo     Biscoe            49.9           16.1              213.0   \n",
              "\n",
              "     body_mass_g     sex  \n",
              "0         3750.0    Male  \n",
              "1         3800.0  Female  \n",
              "2         3250.0  Female  \n",
              "3            NaN     NaN  \n",
              "4         3450.0  Female  \n",
              "..           ...     ...  \n",
              "339          NaN     NaN  \n",
              "340       4850.0  Female  \n",
              "341       5750.0    Male  \n",
              "342       5200.0  Female  \n",
              "343       5400.0    Male  \n",
              "\n",
              "[344 rows x 7 columns]"
            ]
          },
          "execution_count": 8,
          "metadata": {},
          "output_type": "execute_result"
        }
      ],
      "source": [
        "penguins = sns.load_dataset('penguins')\n",
        "penguins"
      ]
    },
    {
      "cell_type": "markdown",
      "id": "4c28d292",
      "metadata": {
        "id": "4c28d292"
      },
      "source": [
        "**a. Are males bigger than females?**\n",
        "\n",
        "* Plot the mean bodyweight for each sex\n",
        "\n",
        "* Plot the distribution of bodyweights of each sex\n",
        "\n"
      ]
    },
    {
      "cell_type": "code",
      "execution_count": null,
      "id": "77718224",
      "metadata": {
        "id": "77718224"
      },
      "outputs": [],
      "source": [
        "# your code here!"
      ]
    },
    {
      "cell_type": "markdown",
      "id": "3fba4a28",
      "metadata": {
        "id": "3fba4a28"
      },
      "source": [
        "What did we learn by plotting the distribution? Can you make a further plot to explore this discovery?"
      ]
    },
    {
      "cell_type": "code",
      "execution_count": null,
      "id": "8243013e",
      "metadata": {
        "id": "8243013e"
      },
      "outputs": [],
      "source": [
        "# your code here!"
      ]
    },
    {
      "cell_type": "markdown",
      "id": "a99813ac",
      "metadata": {
        "id": "a99813ac"
      },
      "source": [
        "Looks like\n",
        "* All species have a similar sex difference as a proportion of their size\n",
        "* Indeed one species is larger - Gentoos are the big ones"
      ]
    },
    {
      "cell_type": "markdown",
      "id": "17d32117",
      "metadata": {
        "id": "17d32117"
      },
      "source": [
        "**b. Is there a correlation between beak length and depth?**\n",
        "\n",
        "Plot the data in a way that answers this question."
      ]
    },
    {
      "cell_type": "code",
      "execution_count": null,
      "id": "fdb9df8d",
      "metadata": {
        "id": "fdb9df8d"
      },
      "outputs": [],
      "source": [
        "# your code here"
      ]
    },
    {
      "cell_type": "markdown",
      "id": "fae90e93",
      "metadata": {
        "id": "fae90e93"
      },
      "source": [
        "Do you notice some clusters in the plot? How could they be explained?\n",
        "\n",
        "Modify your plot using the 'hue' argument to test your hypothesis.\n",
        "\n",
        "Summarize your findings in plain English."
      ]
    },
    {
      "cell_type": "code",
      "execution_count": null,
      "id": "c529ec6b",
      "metadata": {
        "id": "c529ec6b"
      },
      "outputs": [],
      "source": [
        "# your code here"
      ]
    },
    {
      "cell_type": "markdown",
      "id": "8e893647",
      "metadata": {
        "id": "8e893647"
      },
      "source": [
        "## 3. Parietal neurons dataset\n",
        "\n",
        "I mentioned that Seaborn was built by a neuroscientist, Michael Waskom, and a couple of the example datasets are from neuroscience.\n",
        "\n",
        "Here we explore the <tt>dots</tt> dataset, from a study by <a href=\"https://pubmed.ncbi.nlm.nih.gov/12417672/\">Roitman and Shadlen (2002)</a>. This study contains firing rates over time from neurons in the parietal cortex of a monkey performing a perceptual decision-making task.\n",
        "\n",
        "In the task, the monkey observes a *random dot kinematogram* - a stimulus containing dots that mainly move about at random. A small proportion of dots move **coherently** upwards of downwards.\n",
        "\n",
        "<img src=\"https://raw.githubusercontent.com/jillxoreilly/StatsCourseBook_2024/main/images/MT_wk2_RDKUP.gif\" width=25% />\n",
        "\n",
        "The monkey's task is to indicate the direction in which the dots are moving - instead of pressing a button, the monkey moves its gaze to one of two targets on the screen:\n",
        "\n",
        "* up = move eyes to target T1\n",
        "* down = move gaze to target T2\n",
        "\n",
        "\n",
        "The explanation for this dataset is somewhat involved (although PPL and BMS students will in fact cover this study in lectures after Christmas) but it may be helpful to see the following figure, which is what we are eventually aiming for:\n",
        "\n",
        "<img src=\"https://raw.githubusercontent.com/jillxoreilly/StatsCourseBook_2024/main/images/MT_wk2_cells.png\" width=75% />\n",
        "\n",
        "**We are going to try and reproduce this figure**\n",
        "\n",
        "Let's start by loading the data and plotting the timeseries:"
      ]
    },
    {
      "cell_type": "code",
      "execution_count": null,
      "id": "48b33743",
      "metadata": {
        "id": "48b33743",
        "outputId": "85293422-2c52-40b5-def7-c7f7046f8a30"
      },
      "outputs": [
        {
          "data": {
            "text/html": [
              "<div>\n",
              "<style scoped>\n",
              "    .dataframe tbody tr th:only-of-type {\n",
              "        vertical-align: middle;\n",
              "    }\n",
              "\n",
              "    .dataframe tbody tr th {\n",
              "        vertical-align: top;\n",
              "    }\n",
              "\n",
              "    .dataframe thead th {\n",
              "        text-align: right;\n",
              "    }\n",
              "</style>\n",
              "<table border=\"1\" class=\"dataframe\">\n",
              "  <thead>\n",
              "    <tr style=\"text-align: right;\">\n",
              "      <th></th>\n",
              "      <th>align</th>\n",
              "      <th>choice</th>\n",
              "      <th>time</th>\n",
              "      <th>coherence</th>\n",
              "      <th>firing_rate</th>\n",
              "    </tr>\n",
              "  </thead>\n",
              "  <tbody>\n",
              "    <tr>\n",
              "      <th>0</th>\n",
              "      <td>dots</td>\n",
              "      <td>T1</td>\n",
              "      <td>-80</td>\n",
              "      <td>0.0</td>\n",
              "      <td>33.189967</td>\n",
              "    </tr>\n",
              "    <tr>\n",
              "      <th>1</th>\n",
              "      <td>dots</td>\n",
              "      <td>T1</td>\n",
              "      <td>-80</td>\n",
              "      <td>3.2</td>\n",
              "      <td>31.691726</td>\n",
              "    </tr>\n",
              "    <tr>\n",
              "      <th>2</th>\n",
              "      <td>dots</td>\n",
              "      <td>T1</td>\n",
              "      <td>-80</td>\n",
              "      <td>6.4</td>\n",
              "      <td>34.279840</td>\n",
              "    </tr>\n",
              "    <tr>\n",
              "      <th>3</th>\n",
              "      <td>dots</td>\n",
              "      <td>T1</td>\n",
              "      <td>-80</td>\n",
              "      <td>12.8</td>\n",
              "      <td>32.631874</td>\n",
              "    </tr>\n",
              "    <tr>\n",
              "      <th>4</th>\n",
              "      <td>dots</td>\n",
              "      <td>T1</td>\n",
              "      <td>-80</td>\n",
              "      <td>25.6</td>\n",
              "      <td>35.060487</td>\n",
              "    </tr>\n",
              "    <tr>\n",
              "      <th>...</th>\n",
              "      <td>...</td>\n",
              "      <td>...</td>\n",
              "      <td>...</td>\n",
              "      <td>...</td>\n",
              "      <td>...</td>\n",
              "    </tr>\n",
              "    <tr>\n",
              "      <th>843</th>\n",
              "      <td>sacc</td>\n",
              "      <td>T2</td>\n",
              "      <td>300</td>\n",
              "      <td>3.2</td>\n",
              "      <td>33.281734</td>\n",
              "    </tr>\n",
              "    <tr>\n",
              "      <th>844</th>\n",
              "      <td>sacc</td>\n",
              "      <td>T2</td>\n",
              "      <td>300</td>\n",
              "      <td>6.4</td>\n",
              "      <td>27.583979</td>\n",
              "    </tr>\n",
              "    <tr>\n",
              "      <th>845</th>\n",
              "      <td>sacc</td>\n",
              "      <td>T2</td>\n",
              "      <td>300</td>\n",
              "      <td>12.8</td>\n",
              "      <td>28.511530</td>\n",
              "    </tr>\n",
              "    <tr>\n",
              "      <th>846</th>\n",
              "      <td>sacc</td>\n",
              "      <td>T2</td>\n",
              "      <td>300</td>\n",
              "      <td>25.6</td>\n",
              "      <td>27.009804</td>\n",
              "    </tr>\n",
              "    <tr>\n",
              "      <th>847</th>\n",
              "      <td>sacc</td>\n",
              "      <td>T2</td>\n",
              "      <td>300</td>\n",
              "      <td>51.2</td>\n",
              "      <td>30.959302</td>\n",
              "    </tr>\n",
              "  </tbody>\n",
              "</table>\n",
              "<p>848 rows × 5 columns</p>\n",
              "</div>"
            ],
            "text/plain": [
              "    align choice  time  coherence  firing_rate\n",
              "0    dots     T1   -80        0.0    33.189967\n",
              "1    dots     T1   -80        3.2    31.691726\n",
              "2    dots     T1   -80        6.4    34.279840\n",
              "3    dots     T1   -80       12.8    32.631874\n",
              "4    dots     T1   -80       25.6    35.060487\n",
              "..    ...    ...   ...        ...          ...\n",
              "843  sacc     T2   300        3.2    33.281734\n",
              "844  sacc     T2   300        6.4    27.583979\n",
              "845  sacc     T2   300       12.8    28.511530\n",
              "846  sacc     T2   300       25.6    27.009804\n",
              "847  sacc     T2   300       51.2    30.959302\n",
              "\n",
              "[848 rows x 5 columns]"
            ]
          },
          "execution_count": 14,
          "metadata": {},
          "output_type": "execute_result"
        }
      ],
      "source": [
        "dots = sns.load_dataset('dots') # this syntax only works for the Seaborn example datasets\n",
        "dots"
      ]
    },
    {
      "cell_type": "markdown",
      "id": "f23c3a0f",
      "metadata": {
        "id": "f23c3a0f"
      },
      "source": [
        "The dataset contains timeseries alligned to two timepoints:\n",
        "* stimulus onset (<tt>align == 'dots'</tt>)\n",
        "* response (saccade) onset (<tt>align == 'sacc'</tt>)\n",
        "    \n",
        "We are going to split the dataframe and deal with these separately:"
      ]
    },
    {
      "cell_type": "code",
      "execution_count": null,
      "id": "51807f21",
      "metadata": {
        "id": "51807f21"
      },
      "outputs": [],
      "source": [
        "dots_stimulus = dots.query('align == \"dots\"')\n",
        "dots_response = dots.query('align == \"sacc\"')"
      ]
    },
    {
      "cell_type": "markdown",
      "id": "5a3628a0",
      "metadata": {
        "id": "5a3628a0"
      },
      "source": [
        "Let's start with the stimulus-locked data.\n",
        "\n",
        "**a. Plot the timeseries data: firing rate over time**"
      ]
    },
    {
      "cell_type": "code",
      "execution_count": null,
      "id": "96126653",
      "metadata": {
        "id": "96126653"
      },
      "outputs": [],
      "source": [
        "# Your code here"
      ]
    },
    {
      "cell_type": "markdown",
      "id": "b335f7bf",
      "metadata": {
        "id": "b335f7bf"
      },
      "source": [
        "Time zero is the onset of the moving dots. We can see that firing rate initially dips, then rises over the course of several hundred milliseconds.\n",
        "\n",
        "* what do your notice about the variability in firing rate?\n",
        "* Could some of this variability be explained by the other variables in the dataset?\n",
        "\n",
        "\n",
        "**b. Separate firing rates for chosen and unchosen target**\n",
        "\n",
        "Parietal neurons are tuned to locations in space. It turns out that each neuron is more active when an eye movement is planned towards its prefered target.\n",
        "\n",
        "This dataset is coded such that T1 is always the preferred location of the cell being recorded.\n",
        "* T1 is actually a different location in space for each neuron!\n",
        "\n",
        "On some trials T1 is chosen, and on other trials T2 (a non-preferred location) is chosen.\n",
        "\n",
        "Let's plot these separately using the <tt>hue</tt> argument:"
      ]
    },
    {
      "cell_type": "code",
      "execution_count": null,
      "id": "712ab7a2",
      "metadata": {
        "id": "712ab7a2"
      },
      "outputs": [],
      "source": [
        "# Your code here\n"
      ]
    },
    {
      "cell_type": "markdown",
      "id": "8f3d7a0d",
      "metadata": {
        "id": "8f3d7a0d"
      },
      "source": [
        "What do you see? Describe the graph in words."
      ]
    },
    {
      "cell_type": "markdown",
      "id": "83109ead",
      "metadata": {
        "id": "83109ead"
      },
      "source": [
        "**c. Effect of task difficulty**\n",
        "\n",
        "The difficulty of the task, and hence the time needed to reach a decision, depends on the *proportion of coherent motion* (ie what % of dots are moving to the right, or left, rather than randomly)\n",
        "\n",
        "When only a small percentage of dots are moving coherently, the monkey needs to stare at the stimulus for a long time to work out whether the dots are moving left or right.\n",
        "\n",
        "Let's try breaking down the traces by level of coherence\n",
        "\n",
        "* <tt>coherence</tt> = % dots moving left (or right) rather than randomly\n",
        "\n",
        "You previously used `hue` (line colour) to break down the data by the <tt>choice</tt> (T1/T2). You can use `style` (different line styles) to further break down the data."
      ]
    },
    {
      "cell_type": "code",
      "execution_count": null,
      "id": "38a9d743",
      "metadata": {
        "id": "38a9d743"
      },
      "outputs": [],
      "source": [
        "# Your code here\n"
      ]
    },
    {
      "cell_type": "markdown",
      "id": "9a67d834",
      "metadata": {
        "id": "9a67d834"
      },
      "source": [
        "**d. Explore use of hue and style to best represent the data**\n",
        "\n",
        "If you used <tt>hue = choice</tt> and <tt>style = coherence</tt> above, try switching these."
      ]
    },
    {
      "cell_type": "code",
      "execution_count": null,
      "id": "d824a983",
      "metadata": {
        "id": "d824a983"
      },
      "outputs": [],
      "source": [
        "# Your code here\n"
      ]
    },
    {
      "cell_type": "markdown",
      "id": "64646afd",
      "metadata": {
        "id": "64646afd"
      },
      "source": [
        "* I think this plot shows the structure in the data much more clearly than the one in part c.\n",
        "* What makes it clearer?\n",
        "    * which is more striking - colour (hue) or linestyle (style)\n",
        "    * which more clearly conveys an ordering (from low to high coherence) - colour or line style?"
      ]
    },
    {
      "cell_type": "markdown",
      "id": "f0357767",
      "metadata": {
        "id": "f0357767"
      },
      "source": [
        "**e. Plot data aligned to response**\n",
        "\n",
        "The traces for T1 trials all seem to end when the firing rate reaches about 60Hz - this happens earliest for high coherence trials.\n",
        "\n",
        "The reason the traces end is because at this point, the monkey releases an eye movement.\n",
        "\n",
        "Now let's plot the data aligned to the response, which we put in a separate dataframe way back at the start of this section. You can use the same plot style as in part d."
      ]
    },
    {
      "cell_type": "code",
      "execution_count": null,
      "id": "b94fc16a",
      "metadata": {
        "id": "b94fc16a"
      },
      "outputs": [],
      "source": [
        "# Your code here\n"
      ]
    },
    {
      "cell_type": "markdown",
      "id": "2960f2ef",
      "metadata": {
        "id": "2960f2ef"
      },
      "source": [
        "Focussing on trials in which <tt>choice == T1</tt>, we see:\n",
        "\n",
        "* Aligining the data the the response brings the point at which each trace reaches threshold (60Hz firing rate) into line.\n",
        "* Now we see the trace for low-coherence trials stretches further back in time than those for short coherence trials (this is the effect is also seen in the stimulus-locked plot)"
      ]
    },
    {
      "cell_type": "markdown",
      "id": "80a75108",
      "metadata": {
        "id": "80a75108"
      },
      "source": [
        "**f. Compare plots of stimulus- and response-locked data**\n",
        "\n",
        "Let's use `plt.subplot()` to plot the stimulus and response-locked data.\n",
        "\n",
        "* Would it be best to plot the data one above the other, or side by side? Why?\n",
        "* Think about what needs to match between the axes to facilitate comparison\n",
        "* Do you need to adjust the figure size to make enough space for both subplots?"
      ]
    },
    {
      "cell_type": "code",
      "execution_count": null,
      "id": "efdd5725",
      "metadata": {
        "id": "efdd5725"
      },
      "outputs": [],
      "source": [
        "# Your code here\n"
      ]
    },
    {
      "cell_type": "markdown",
      "id": "a43db1ff",
      "metadata": {
        "id": "a43db1ff"
      },
      "source": [
        "**Note-**\n",
        "\n",
        "From the stimulus-locked graph, it looks like the neurons are ramping up to a threshold.\n",
        "\n",
        "Paired with the response-locked graph, this result is extremely convincing. This is because of the aligned peaks and the sudden drop-off of firing rate after the threshold is reached.\n",
        "\n",
        "**Aside-**\n",
        "\n",
        "You might have noticed that the threshold/peak looks higher in the response-locked graph!\n",
        "This looks a bit odd.\n",
        "\n",
        "It is because the traces in the stimulus-locked graph are truncated 100ms before response onset.\n",
        "* Check what the firing rate is at time -100ms in the response-locked graph (hopefully similar tho the traces' end-points in the stimulus-locked plot)"
      ]
    },
    {
      "cell_type": "code",
      "execution_count": null,
      "id": "854c4850",
      "metadata": {
        "id": "854c4850"
      },
      "outputs": [],
      "source": []
    }
  ],
  "metadata": {
    "kernelspec": {
      "display_name": "Python 3 (ipykernel)",
      "language": "python",
      "name": "python3"
    },
    "language_info": {
      "codemirror_mode": {
        "name": "ipython",
        "version": 3
      },
      "file_extension": ".py",
      "mimetype": "text/x-python",
      "name": "python",
      "nbconvert_exporter": "python",
      "pygments_lexer": "ipython3",
      "version": "3.11.13"
    },
    "colab": {
      "provenance": []
    }
  },
  "nbformat": 4,
  "nbformat_minor": 5
}