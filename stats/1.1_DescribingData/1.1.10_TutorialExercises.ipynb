{
  "cells": [
    {
      "cell_type": "markdown",
      "metadata": {
        "id": "view-in-github",
        "colab_type": "text"
      },
      "source": [
        "<a href=\"https://colab.research.google.com/github/Tedodor423/bms-collab-notebooks/blob/main/stats/1.1_DescribingData/1.1.10_TutorialExercises.ipynb\" target=\"_parent\"><img src=\"https://colab.research.google.com/assets/colab-badge.svg\" alt=\"Open In Colab\"/></a>"
      ]
    },
    {
      "cell_type": "markdown",
      "id": "8752e0fa",
      "metadata": {
        "id": "8752e0fa"
      },
      "source": [
        "# Tutorial Exercises\n",
        "\n",
        "This week's tutorial exercises focus on indexing and obtaining descriptive statistics. Please make sure you refer back to the coursebook, and exercises from the past week.\n",
        "\n",
        "\n",
        "### Set up Python Libraries\n",
        "\n",
        "As usual you will need to run this code block to import the relevant Python libraries"
      ]
    },
    {
      "cell_type": "code",
      "execution_count": 1,
      "id": "8366c45d",
      "metadata": {
        "id": "8366c45d"
      },
      "outputs": [],
      "source": [
        "# Set-up Python libraries - you need to run this but you don't need to change it\n",
        "import numpy as np\n",
        "import matplotlib.pyplot as plt\n",
        "import scipy.stats as stats\n",
        "import pandas as pd\n",
        "import seaborn as sns\n",
        "sns.set_theme(style='white')\n",
        "import statsmodels.api as sm\n",
        "import statsmodels.formula.api as smf\n",
        "import warnings\n",
        "warnings.simplefilter('ignore', category=FutureWarning)"
      ]
    },
    {
      "cell_type": "markdown",
      "id": "6bf1597e",
      "metadata": {
        "id": "6bf1597e"
      },
      "source": [
        "### Import a dataset to work with\n",
        "\n",
        "We will work with weather data from the Oxford weather station. This code block will read it automatically from the internet."
      ]
    },
    {
      "cell_type": "code",
      "execution_count": 2,
      "id": "8e80e994",
      "metadata": {
        "id": "8e80e994",
        "outputId": "a294dd70-a036-4185-8118-13fec83693f3",
        "colab": {
          "base_uri": "https://localhost:8080/",
          "height": 424
        }
      },
      "outputs": [
        {
          "output_type": "display_data",
          "data": {
            "text/plain": [
              "       YYYY Month  MM  DD  DD365  Tmax  Tmin  Tmean  Trange  Rainfall_mm\n",
              "0      1827   Jan   1   1      1   8.3   5.6    7.0     2.7          0.0\n",
              "1      1827   Jan   1   2      2   2.2   0.0    1.1     2.2          0.0\n",
              "2      1827   Jan   1   3      3  -2.2  -8.3   -5.3     6.1          9.7\n",
              "3      1827   Jan   1   4      4  -1.7  -7.8   -4.8     6.1          0.0\n",
              "4      1827   Jan   1   5      5   0.0 -10.6   -5.3    10.6          0.0\n",
              "...     ...   ...  ..  ..    ...   ...   ...    ...     ...          ...\n",
              "71338  2022   Apr   4  26    116  15.2   4.1    9.7    11.1          0.0\n",
              "71339  2022   Apr   4  27    117  10.7   2.6    6.7     8.1          0.0\n",
              "71340  2022   Apr   4  28    118  12.7   3.9    8.3     8.8          0.0\n",
              "71341  2022   Apr   4  29    119  11.7   6.7    9.2     5.0          0.0\n",
              "71342  2022   Apr   4  30    120  17.6   1.0    9.3    16.6          0.0\n",
              "\n",
              "[71343 rows x 10 columns]"
            ],
            "text/html": [
              "\n",
              "  <div id=\"df-daf81047-7e73-40f4-835f-b824edd4b2e7\" class=\"colab-df-container\">\n",
              "    <div>\n",
              "<style scoped>\n",
              "    .dataframe tbody tr th:only-of-type {\n",
              "        vertical-align: middle;\n",
              "    }\n",
              "\n",
              "    .dataframe tbody tr th {\n",
              "        vertical-align: top;\n",
              "    }\n",
              "\n",
              "    .dataframe thead th {\n",
              "        text-align: right;\n",
              "    }\n",
              "</style>\n",
              "<table border=\"1\" class=\"dataframe\">\n",
              "  <thead>\n",
              "    <tr style=\"text-align: right;\">\n",
              "      <th></th>\n",
              "      <th>YYYY</th>\n",
              "      <th>Month</th>\n",
              "      <th>MM</th>\n",
              "      <th>DD</th>\n",
              "      <th>DD365</th>\n",
              "      <th>Tmax</th>\n",
              "      <th>Tmin</th>\n",
              "      <th>Tmean</th>\n",
              "      <th>Trange</th>\n",
              "      <th>Rainfall_mm</th>\n",
              "    </tr>\n",
              "  </thead>\n",
              "  <tbody>\n",
              "    <tr>\n",
              "      <th>0</th>\n",
              "      <td>1827</td>\n",
              "      <td>Jan</td>\n",
              "      <td>1</td>\n",
              "      <td>1</td>\n",
              "      <td>1</td>\n",
              "      <td>8.3</td>\n",
              "      <td>5.6</td>\n",
              "      <td>7.0</td>\n",
              "      <td>2.7</td>\n",
              "      <td>0.0</td>\n",
              "    </tr>\n",
              "    <tr>\n",
              "      <th>1</th>\n",
              "      <td>1827</td>\n",
              "      <td>Jan</td>\n",
              "      <td>1</td>\n",
              "      <td>2</td>\n",
              "      <td>2</td>\n",
              "      <td>2.2</td>\n",
              "      <td>0.0</td>\n",
              "      <td>1.1</td>\n",
              "      <td>2.2</td>\n",
              "      <td>0.0</td>\n",
              "    </tr>\n",
              "    <tr>\n",
              "      <th>2</th>\n",
              "      <td>1827</td>\n",
              "      <td>Jan</td>\n",
              "      <td>1</td>\n",
              "      <td>3</td>\n",
              "      <td>3</td>\n",
              "      <td>-2.2</td>\n",
              "      <td>-8.3</td>\n",
              "      <td>-5.3</td>\n",
              "      <td>6.1</td>\n",
              "      <td>9.7</td>\n",
              "    </tr>\n",
              "    <tr>\n",
              "      <th>3</th>\n",
              "      <td>1827</td>\n",
              "      <td>Jan</td>\n",
              "      <td>1</td>\n",
              "      <td>4</td>\n",
              "      <td>4</td>\n",
              "      <td>-1.7</td>\n",
              "      <td>-7.8</td>\n",
              "      <td>-4.8</td>\n",
              "      <td>6.1</td>\n",
              "      <td>0.0</td>\n",
              "    </tr>\n",
              "    <tr>\n",
              "      <th>4</th>\n",
              "      <td>1827</td>\n",
              "      <td>Jan</td>\n",
              "      <td>1</td>\n",
              "      <td>5</td>\n",
              "      <td>5</td>\n",
              "      <td>0.0</td>\n",
              "      <td>-10.6</td>\n",
              "      <td>-5.3</td>\n",
              "      <td>10.6</td>\n",
              "      <td>0.0</td>\n",
              "    </tr>\n",
              "    <tr>\n",
              "      <th>...</th>\n",
              "      <td>...</td>\n",
              "      <td>...</td>\n",
              "      <td>...</td>\n",
              "      <td>...</td>\n",
              "      <td>...</td>\n",
              "      <td>...</td>\n",
              "      <td>...</td>\n",
              "      <td>...</td>\n",
              "      <td>...</td>\n",
              "      <td>...</td>\n",
              "    </tr>\n",
              "    <tr>\n",
              "      <th>71338</th>\n",
              "      <td>2022</td>\n",
              "      <td>Apr</td>\n",
              "      <td>4</td>\n",
              "      <td>26</td>\n",
              "      <td>116</td>\n",
              "      <td>15.2</td>\n",
              "      <td>4.1</td>\n",
              "      <td>9.7</td>\n",
              "      <td>11.1</td>\n",
              "      <td>0.0</td>\n",
              "    </tr>\n",
              "    <tr>\n",
              "      <th>71339</th>\n",
              "      <td>2022</td>\n",
              "      <td>Apr</td>\n",
              "      <td>4</td>\n",
              "      <td>27</td>\n",
              "      <td>117</td>\n",
              "      <td>10.7</td>\n",
              "      <td>2.6</td>\n",
              "      <td>6.7</td>\n",
              "      <td>8.1</td>\n",
              "      <td>0.0</td>\n",
              "    </tr>\n",
              "    <tr>\n",
              "      <th>71340</th>\n",
              "      <td>2022</td>\n",
              "      <td>Apr</td>\n",
              "      <td>4</td>\n",
              "      <td>28</td>\n",
              "      <td>118</td>\n",
              "      <td>12.7</td>\n",
              "      <td>3.9</td>\n",
              "      <td>8.3</td>\n",
              "      <td>8.8</td>\n",
              "      <td>0.0</td>\n",
              "    </tr>\n",
              "    <tr>\n",
              "      <th>71341</th>\n",
              "      <td>2022</td>\n",
              "      <td>Apr</td>\n",
              "      <td>4</td>\n",
              "      <td>29</td>\n",
              "      <td>119</td>\n",
              "      <td>11.7</td>\n",
              "      <td>6.7</td>\n",
              "      <td>9.2</td>\n",
              "      <td>5.0</td>\n",
              "      <td>0.0</td>\n",
              "    </tr>\n",
              "    <tr>\n",
              "      <th>71342</th>\n",
              "      <td>2022</td>\n",
              "      <td>Apr</td>\n",
              "      <td>4</td>\n",
              "      <td>30</td>\n",
              "      <td>120</td>\n",
              "      <td>17.6</td>\n",
              "      <td>1.0</td>\n",
              "      <td>9.3</td>\n",
              "      <td>16.6</td>\n",
              "      <td>0.0</td>\n",
              "    </tr>\n",
              "  </tbody>\n",
              "</table>\n",
              "<p>71343 rows × 10 columns</p>\n",
              "</div>\n",
              "    <div class=\"colab-df-buttons\">\n",
              "\n",
              "  <div class=\"colab-df-container\">\n",
              "    <button class=\"colab-df-convert\" onclick=\"convertToInteractive('df-daf81047-7e73-40f4-835f-b824edd4b2e7')\"\n",
              "            title=\"Convert this dataframe to an interactive table.\"\n",
              "            style=\"display:none;\">\n",
              "\n",
              "  <svg xmlns=\"http://www.w3.org/2000/svg\" height=\"24px\" viewBox=\"0 -960 960 960\">\n",
              "    <path d=\"M120-120v-720h720v720H120Zm60-500h600v-160H180v160Zm220 220h160v-160H400v160Zm0 220h160v-160H400v160ZM180-400h160v-160H180v160Zm440 0h160v-160H620v160ZM180-180h160v-160H180v160Zm440 0h160v-160H620v160Z\"/>\n",
              "  </svg>\n",
              "    </button>\n",
              "\n",
              "  <style>\n",
              "    .colab-df-container {\n",
              "      display:flex;\n",
              "      gap: 12px;\n",
              "    }\n",
              "\n",
              "    .colab-df-convert {\n",
              "      background-color: #E8F0FE;\n",
              "      border: none;\n",
              "      border-radius: 50%;\n",
              "      cursor: pointer;\n",
              "      display: none;\n",
              "      fill: #1967D2;\n",
              "      height: 32px;\n",
              "      padding: 0 0 0 0;\n",
              "      width: 32px;\n",
              "    }\n",
              "\n",
              "    .colab-df-convert:hover {\n",
              "      background-color: #E2EBFA;\n",
              "      box-shadow: 0px 1px 2px rgba(60, 64, 67, 0.3), 0px 1px 3px 1px rgba(60, 64, 67, 0.15);\n",
              "      fill: #174EA6;\n",
              "    }\n",
              "\n",
              "    .colab-df-buttons div {\n",
              "      margin-bottom: 4px;\n",
              "    }\n",
              "\n",
              "    [theme=dark] .colab-df-convert {\n",
              "      background-color: #3B4455;\n",
              "      fill: #D2E3FC;\n",
              "    }\n",
              "\n",
              "    [theme=dark] .colab-df-convert:hover {\n",
              "      background-color: #434B5C;\n",
              "      box-shadow: 0px 1px 3px 1px rgba(0, 0, 0, 0.15);\n",
              "      filter: drop-shadow(0px 1px 2px rgba(0, 0, 0, 0.3));\n",
              "      fill: #FFFFFF;\n",
              "    }\n",
              "  </style>\n",
              "\n",
              "    <script>\n",
              "      const buttonEl =\n",
              "        document.querySelector('#df-daf81047-7e73-40f4-835f-b824edd4b2e7 button.colab-df-convert');\n",
              "      buttonEl.style.display =\n",
              "        google.colab.kernel.accessAllowed ? 'block' : 'none';\n",
              "\n",
              "      async function convertToInteractive(key) {\n",
              "        const element = document.querySelector('#df-daf81047-7e73-40f4-835f-b824edd4b2e7');\n",
              "        const dataTable =\n",
              "          await google.colab.kernel.invokeFunction('convertToInteractive',\n",
              "                                                    [key], {});\n",
              "        if (!dataTable) return;\n",
              "\n",
              "        const docLinkHtml = 'Like what you see? Visit the ' +\n",
              "          '<a target=\"_blank\" href=https://colab.research.google.com/notebooks/data_table.ipynb>data table notebook</a>'\n",
              "          + ' to learn more about interactive tables.';\n",
              "        element.innerHTML = '';\n",
              "        dataTable['output_type'] = 'display_data';\n",
              "        await google.colab.output.renderOutput(dataTable, element);\n",
              "        const docLink = document.createElement('div');\n",
              "        docLink.innerHTML = docLinkHtml;\n",
              "        element.appendChild(docLink);\n",
              "      }\n",
              "    </script>\n",
              "  </div>\n",
              "\n",
              "\n",
              "    <div id=\"df-7f70d755-651d-4398-93b6-bce72c6b76d5\">\n",
              "      <button class=\"colab-df-quickchart\" onclick=\"quickchart('df-7f70d755-651d-4398-93b6-bce72c6b76d5')\"\n",
              "                title=\"Suggest charts\"\n",
              "                style=\"display:none;\">\n",
              "\n",
              "<svg xmlns=\"http://www.w3.org/2000/svg\" height=\"24px\"viewBox=\"0 0 24 24\"\n",
              "     width=\"24px\">\n",
              "    <g>\n",
              "        <path d=\"M19 3H5c-1.1 0-2 .9-2 2v14c0 1.1.9 2 2 2h14c1.1 0 2-.9 2-2V5c0-1.1-.9-2-2-2zM9 17H7v-7h2v7zm4 0h-2V7h2v10zm4 0h-2v-4h2v4z\"/>\n",
              "    </g>\n",
              "</svg>\n",
              "      </button>\n",
              "\n",
              "<style>\n",
              "  .colab-df-quickchart {\n",
              "      --bg-color: #E8F0FE;\n",
              "      --fill-color: #1967D2;\n",
              "      --hover-bg-color: #E2EBFA;\n",
              "      --hover-fill-color: #174EA6;\n",
              "      --disabled-fill-color: #AAA;\n",
              "      --disabled-bg-color: #DDD;\n",
              "  }\n",
              "\n",
              "  [theme=dark] .colab-df-quickchart {\n",
              "      --bg-color: #3B4455;\n",
              "      --fill-color: #D2E3FC;\n",
              "      --hover-bg-color: #434B5C;\n",
              "      --hover-fill-color: #FFFFFF;\n",
              "      --disabled-bg-color: #3B4455;\n",
              "      --disabled-fill-color: #666;\n",
              "  }\n",
              "\n",
              "  .colab-df-quickchart {\n",
              "    background-color: var(--bg-color);\n",
              "    border: none;\n",
              "    border-radius: 50%;\n",
              "    cursor: pointer;\n",
              "    display: none;\n",
              "    fill: var(--fill-color);\n",
              "    height: 32px;\n",
              "    padding: 0;\n",
              "    width: 32px;\n",
              "  }\n",
              "\n",
              "  .colab-df-quickchart:hover {\n",
              "    background-color: var(--hover-bg-color);\n",
              "    box-shadow: 0 1px 2px rgba(60, 64, 67, 0.3), 0 1px 3px 1px rgba(60, 64, 67, 0.15);\n",
              "    fill: var(--button-hover-fill-color);\n",
              "  }\n",
              "\n",
              "  .colab-df-quickchart-complete:disabled,\n",
              "  .colab-df-quickchart-complete:disabled:hover {\n",
              "    background-color: var(--disabled-bg-color);\n",
              "    fill: var(--disabled-fill-color);\n",
              "    box-shadow: none;\n",
              "  }\n",
              "\n",
              "  .colab-df-spinner {\n",
              "    border: 2px solid var(--fill-color);\n",
              "    border-color: transparent;\n",
              "    border-bottom-color: var(--fill-color);\n",
              "    animation:\n",
              "      spin 1s steps(1) infinite;\n",
              "  }\n",
              "\n",
              "  @keyframes spin {\n",
              "    0% {\n",
              "      border-color: transparent;\n",
              "      border-bottom-color: var(--fill-color);\n",
              "      border-left-color: var(--fill-color);\n",
              "    }\n",
              "    20% {\n",
              "      border-color: transparent;\n",
              "      border-left-color: var(--fill-color);\n",
              "      border-top-color: var(--fill-color);\n",
              "    }\n",
              "    30% {\n",
              "      border-color: transparent;\n",
              "      border-left-color: var(--fill-color);\n",
              "      border-top-color: var(--fill-color);\n",
              "      border-right-color: var(--fill-color);\n",
              "    }\n",
              "    40% {\n",
              "      border-color: transparent;\n",
              "      border-right-color: var(--fill-color);\n",
              "      border-top-color: var(--fill-color);\n",
              "    }\n",
              "    60% {\n",
              "      border-color: transparent;\n",
              "      border-right-color: var(--fill-color);\n",
              "    }\n",
              "    80% {\n",
              "      border-color: transparent;\n",
              "      border-right-color: var(--fill-color);\n",
              "      border-bottom-color: var(--fill-color);\n",
              "    }\n",
              "    90% {\n",
              "      border-color: transparent;\n",
              "      border-bottom-color: var(--fill-color);\n",
              "    }\n",
              "  }\n",
              "</style>\n",
              "\n",
              "      <script>\n",
              "        async function quickchart(key) {\n",
              "          const quickchartButtonEl =\n",
              "            document.querySelector('#' + key + ' button');\n",
              "          quickchartButtonEl.disabled = true;  // To prevent multiple clicks.\n",
              "          quickchartButtonEl.classList.add('colab-df-spinner');\n",
              "          try {\n",
              "            const charts = await google.colab.kernel.invokeFunction(\n",
              "                'suggestCharts', [key], {});\n",
              "          } catch (error) {\n",
              "            console.error('Error during call to suggestCharts:', error);\n",
              "          }\n",
              "          quickchartButtonEl.classList.remove('colab-df-spinner');\n",
              "          quickchartButtonEl.classList.add('colab-df-quickchart-complete');\n",
              "        }\n",
              "        (() => {\n",
              "          let quickchartButtonEl =\n",
              "            document.querySelector('#df-7f70d755-651d-4398-93b6-bce72c6b76d5 button');\n",
              "          quickchartButtonEl.style.display =\n",
              "            google.colab.kernel.accessAllowed ? 'block' : 'none';\n",
              "        })();\n",
              "      </script>\n",
              "    </div>\n",
              "\n",
              "  <div id=\"id_83b0cee9-2d07-4b9e-9010-e1f2a74ea886\">\n",
              "    <style>\n",
              "      .colab-df-generate {\n",
              "        background-color: #E8F0FE;\n",
              "        border: none;\n",
              "        border-radius: 50%;\n",
              "        cursor: pointer;\n",
              "        display: none;\n",
              "        fill: #1967D2;\n",
              "        height: 32px;\n",
              "        padding: 0 0 0 0;\n",
              "        width: 32px;\n",
              "      }\n",
              "\n",
              "      .colab-df-generate:hover {\n",
              "        background-color: #E2EBFA;\n",
              "        box-shadow: 0px 1px 2px rgba(60, 64, 67, 0.3), 0px 1px 3px 1px rgba(60, 64, 67, 0.15);\n",
              "        fill: #174EA6;\n",
              "      }\n",
              "\n",
              "      [theme=dark] .colab-df-generate {\n",
              "        background-color: #3B4455;\n",
              "        fill: #D2E3FC;\n",
              "      }\n",
              "\n",
              "      [theme=dark] .colab-df-generate:hover {\n",
              "        background-color: #434B5C;\n",
              "        box-shadow: 0px 1px 3px 1px rgba(0, 0, 0, 0.15);\n",
              "        filter: drop-shadow(0px 1px 2px rgba(0, 0, 0, 0.3));\n",
              "        fill: #FFFFFF;\n",
              "      }\n",
              "    </style>\n",
              "    <button class=\"colab-df-generate\" onclick=\"generateWithVariable('weather')\"\n",
              "            title=\"Generate code using this dataframe.\"\n",
              "            style=\"display:none;\">\n",
              "\n",
              "  <svg xmlns=\"http://www.w3.org/2000/svg\" height=\"24px\"viewBox=\"0 0 24 24\"\n",
              "       width=\"24px\">\n",
              "    <path d=\"M7,19H8.4L18.45,9,17,7.55,7,17.6ZM5,21V16.75L18.45,3.32a2,2,0,0,1,2.83,0l1.4,1.43a1.91,1.91,0,0,1,.58,1.4,1.91,1.91,0,0,1-.58,1.4L9.25,21ZM18.45,9,17,7.55Zm-12,3A5.31,5.31,0,0,0,4.9,8.1,5.31,5.31,0,0,0,1,6.5,5.31,5.31,0,0,0,4.9,4.9,5.31,5.31,0,0,0,6.5,1,5.31,5.31,0,0,0,8.1,4.9,5.31,5.31,0,0,0,12,6.5,5.46,5.46,0,0,0,6.5,12Z\"/>\n",
              "  </svg>\n",
              "    </button>\n",
              "    <script>\n",
              "      (() => {\n",
              "      const buttonEl =\n",
              "        document.querySelector('#id_83b0cee9-2d07-4b9e-9010-e1f2a74ea886 button.colab-df-generate');\n",
              "      buttonEl.style.display =\n",
              "        google.colab.kernel.accessAllowed ? 'block' : 'none';\n",
              "\n",
              "      buttonEl.onclick = () => {\n",
              "        google.colab.notebook.generateWithVariable('weather');\n",
              "      }\n",
              "      })();\n",
              "    </script>\n",
              "  </div>\n",
              "\n",
              "    </div>\n",
              "  </div>\n"
            ],
            "application/vnd.google.colaboratory.intrinsic+json": {
              "type": "dataframe",
              "variable_name": "weather",
              "summary": "{\n  \"name\": \"weather\",\n  \"rows\": 71343,\n  \"fields\": [\n    {\n      \"column\": \"YYYY\",\n      \"properties\": {\n        \"dtype\": \"number\",\n        \"std\": 56,\n        \"min\": 1827,\n        \"max\": 2022,\n        \"num_unique_values\": 196,\n        \"samples\": [\n          1966,\n          1940,\n          1843\n        ],\n        \"semantic_type\": \"\",\n        \"description\": \"\"\n      }\n    },\n    {\n      \"column\": \"Month\",\n      \"properties\": {\n        \"dtype\": \"category\",\n        \"num_unique_values\": 12,\n        \"samples\": [\n          \"Nov\",\n          \"Oct\",\n          \"Jan\"\n        ],\n        \"semantic_type\": \"\",\n        \"description\": \"\"\n      }\n    },\n    {\n      \"column\": \"MM\",\n      \"properties\": {\n        \"dtype\": \"number\",\n        \"std\": 3,\n        \"min\": 1,\n        \"max\": 12,\n        \"num_unique_values\": 12,\n        \"samples\": [\n          11,\n          10,\n          1\n        ],\n        \"semantic_type\": \"\",\n        \"description\": \"\"\n      }\n    },\n    {\n      \"column\": \"DD\",\n      \"properties\": {\n        \"dtype\": \"number\",\n        \"std\": 8,\n        \"min\": 1,\n        \"max\": 31,\n        \"num_unique_values\": 31,\n        \"samples\": [\n          28,\n          16,\n          24\n        ],\n        \"semantic_type\": \"\",\n        \"description\": \"\"\n      }\n    },\n    {\n      \"column\": \"DD365\",\n      \"properties\": {\n        \"dtype\": \"number\",\n        \"std\": 105,\n        \"min\": 1,\n        \"max\": 366,\n        \"num_unique_values\": 366,\n        \"samples\": [\n          194,\n          34,\n          16\n        ],\n        \"semantic_type\": \"\",\n        \"description\": \"\"\n      }\n    },\n    {\n      \"column\": \"Tmax\",\n      \"properties\": {\n        \"dtype\": \"number\",\n        \"std\": 6.490257961217453,\n        \"min\": -9.6,\n        \"max\": 36.5,\n        \"num_unique_values\": 411,\n        \"samples\": [\n          5.2,\n          16.1,\n          26.2\n        ],\n        \"semantic_type\": \"\",\n        \"description\": \"\"\n      }\n    },\n    {\n      \"column\": \"Tmin\",\n      \"properties\": {\n        \"dtype\": \"number\",\n        \"std\": 5.235341168271098,\n        \"min\": -17.8,\n        \"max\": 21.2,\n        \"num_unique_values\": 352,\n        \"samples\": [\n          8.5,\n          16.1,\n          1.6\n        ],\n        \"semantic_type\": \"\",\n        \"description\": \"\"\n      }\n    },\n    {\n      \"column\": \"Tmean\",\n      \"properties\": {\n        \"dtype\": \"number\",\n        \"std\": 5.632084843246228,\n        \"min\": -12.1,\n        \"max\": 27.4,\n        \"num_unique_values\": 358,\n        \"samples\": [\n          21.9,\n          5.3,\n          -3.2\n        ],\n        \"semantic_type\": \"\",\n        \"description\": \"\"\n      }\n    },\n    {\n      \"column\": \"Trange\",\n      \"properties\": {\n        \"dtype\": \"number\",\n        \"std\": 3.5139960850746883,\n        \"min\": 0.0,\n        \"max\": 23.1,\n        \"num_unique_values\": 220,\n        \"samples\": [\n          9.0,\n          5.8,\n          12.7\n        ],\n        \"semantic_type\": \"\",\n        \"description\": \"\"\n      }\n    },\n    {\n      \"column\": \"Rainfall_mm\",\n      \"properties\": {\n        \"dtype\": \"number\",\n        \"std\": 3.9763774957601976,\n        \"min\": 0.0,\n        \"max\": 87.9,\n        \"num_unique_values\": 392,\n        \"samples\": [\n          4.6,\n          26.6,\n          21.4\n        ],\n        \"semantic_type\": \"\",\n        \"description\": \"\"\n      }\n    }\n  ]\n}"
            }
          },
          "metadata": {}
        }
      ],
      "source": [
        "weather = pd.read_csv(\"https://raw.githubusercontent.com/jillxoreilly/StatsCourseBook_2024/main/data/OxfordWeather.csv\")\n",
        "display(weather)"
      ]
    },
    {
      "cell_type": "markdown",
      "id": "fe20b066",
      "metadata": {
        "id": "fe20b066"
      },
      "source": [
        "## Exercises\n",
        "\n",
        "In the following questions, you'll use **descriptive statistics** and **indexing** to explore questions about the weather and climate in Oxford.\n",
        "\n",
        "When you are asked to calculate a value (for example, a mean or standard deviation) rather than produce a full table, you should **report your answer in words** in the text box below the code block. This is exactly how you would do it in a written report.\n",
        "\n",
        "\n",
        "When the question asks you to “comment”, you are being asked to *interpret* the data. That is, explain what you notice, what patterns stand out, or what the numbers might mean in context. Use plain English and discuss your ideas with your tutor and classmates. Developing the skill of turning numbers into insight is one of the most important parts of learning data analysis.\n",
        "\n",
        "### Part 1: Heat"
      ]
    },
    {
      "cell_type": "markdown",
      "id": "b58c7c95",
      "metadata": {
        "id": "b58c7c95"
      },
      "source": [
        "#### a. What was the hottest temperature on record?\n",
        "\n",
        "Note that the dataset ends in April 2022 so does not include the record-breaking heatwaves that we've experienced recently."
      ]
    },
    {
      "cell_type": "code",
      "execution_count": 3,
      "id": "66b09e4b",
      "metadata": {
        "id": "66b09e4b",
        "outputId": "77e6a232-1e8d-4b7c-8060-b8294d6a2e3d",
        "colab": {
          "base_uri": "https://localhost:8080/"
        }
      },
      "outputs": [
        {
          "output_type": "execute_result",
          "data": {
            "text/plain": [
              "36.5"
            ]
          },
          "metadata": {},
          "execution_count": 3
        }
      ],
      "source": [
        "weather.Tmax.max()"
      ]
    },
    {
      "cell_type": "markdown",
      "id": "31fe6a75",
      "metadata": {
        "id": "31fe6a75"
      },
      "source": [
        "*Your text here*"
      ]
    },
    {
      "cell_type": "markdown",
      "id": "14c8c66a",
      "metadata": {
        "id": "14c8c66a"
      },
      "source": [
        "#### b. On what date did the hottest temperature occur?\n",
        "\n",
        "Hint: you could use `df.query()` to help you here"
      ]
    },
    {
      "cell_type": "code",
      "execution_count": 7,
      "id": "b9609e8d-3bcd-490c-ac3f-4e370308f8d8",
      "metadata": {
        "id": "b9609e8d-3bcd-490c-ac3f-4e370308f8d8",
        "outputId": "0a61c896-e9f8-44aa-a215-59d77337b9c4",
        "colab": {
          "base_uri": "https://localhost:8080/",
          "height": 81
        }
      },
      "outputs": [
        {
          "output_type": "execute_result",
          "data": {
            "text/plain": [
              "       YYYY  MM\n",
              "70332  2019   7"
            ],
            "text/html": [
              "\n",
              "  <div id=\"df-0856effe-43c5-424f-ad6c-a79dcd89135a\" class=\"colab-df-container\">\n",
              "    <div>\n",
              "<style scoped>\n",
              "    .dataframe tbody tr th:only-of-type {\n",
              "        vertical-align: middle;\n",
              "    }\n",
              "\n",
              "    .dataframe tbody tr th {\n",
              "        vertical-align: top;\n",
              "    }\n",
              "\n",
              "    .dataframe thead th {\n",
              "        text-align: right;\n",
              "    }\n",
              "</style>\n",
              "<table border=\"1\" class=\"dataframe\">\n",
              "  <thead>\n",
              "    <tr style=\"text-align: right;\">\n",
              "      <th></th>\n",
              "      <th>YYYY</th>\n",
              "      <th>MM</th>\n",
              "    </tr>\n",
              "  </thead>\n",
              "  <tbody>\n",
              "    <tr>\n",
              "      <th>70332</th>\n",
              "      <td>2019</td>\n",
              "      <td>7</td>\n",
              "    </tr>\n",
              "  </tbody>\n",
              "</table>\n",
              "</div>\n",
              "    <div class=\"colab-df-buttons\">\n",
              "\n",
              "  <div class=\"colab-df-container\">\n",
              "    <button class=\"colab-df-convert\" onclick=\"convertToInteractive('df-0856effe-43c5-424f-ad6c-a79dcd89135a')\"\n",
              "            title=\"Convert this dataframe to an interactive table.\"\n",
              "            style=\"display:none;\">\n",
              "\n",
              "  <svg xmlns=\"http://www.w3.org/2000/svg\" height=\"24px\" viewBox=\"0 -960 960 960\">\n",
              "    <path d=\"M120-120v-720h720v720H120Zm60-500h600v-160H180v160Zm220 220h160v-160H400v160Zm0 220h160v-160H400v160ZM180-400h160v-160H180v160Zm440 0h160v-160H620v160ZM180-180h160v-160H180v160Zm440 0h160v-160H620v160Z\"/>\n",
              "  </svg>\n",
              "    </button>\n",
              "\n",
              "  <style>\n",
              "    .colab-df-container {\n",
              "      display:flex;\n",
              "      gap: 12px;\n",
              "    }\n",
              "\n",
              "    .colab-df-convert {\n",
              "      background-color: #E8F0FE;\n",
              "      border: none;\n",
              "      border-radius: 50%;\n",
              "      cursor: pointer;\n",
              "      display: none;\n",
              "      fill: #1967D2;\n",
              "      height: 32px;\n",
              "      padding: 0 0 0 0;\n",
              "      width: 32px;\n",
              "    }\n",
              "\n",
              "    .colab-df-convert:hover {\n",
              "      background-color: #E2EBFA;\n",
              "      box-shadow: 0px 1px 2px rgba(60, 64, 67, 0.3), 0px 1px 3px 1px rgba(60, 64, 67, 0.15);\n",
              "      fill: #174EA6;\n",
              "    }\n",
              "\n",
              "    .colab-df-buttons div {\n",
              "      margin-bottom: 4px;\n",
              "    }\n",
              "\n",
              "    [theme=dark] .colab-df-convert {\n",
              "      background-color: #3B4455;\n",
              "      fill: #D2E3FC;\n",
              "    }\n",
              "\n",
              "    [theme=dark] .colab-df-convert:hover {\n",
              "      background-color: #434B5C;\n",
              "      box-shadow: 0px 1px 3px 1px rgba(0, 0, 0, 0.15);\n",
              "      filter: drop-shadow(0px 1px 2px rgba(0, 0, 0, 0.3));\n",
              "      fill: #FFFFFF;\n",
              "    }\n",
              "  </style>\n",
              "\n",
              "    <script>\n",
              "      const buttonEl =\n",
              "        document.querySelector('#df-0856effe-43c5-424f-ad6c-a79dcd89135a button.colab-df-convert');\n",
              "      buttonEl.style.display =\n",
              "        google.colab.kernel.accessAllowed ? 'block' : 'none';\n",
              "\n",
              "      async function convertToInteractive(key) {\n",
              "        const element = document.querySelector('#df-0856effe-43c5-424f-ad6c-a79dcd89135a');\n",
              "        const dataTable =\n",
              "          await google.colab.kernel.invokeFunction('convertToInteractive',\n",
              "                                                    [key], {});\n",
              "        if (!dataTable) return;\n",
              "\n",
              "        const docLinkHtml = 'Like what you see? Visit the ' +\n",
              "          '<a target=\"_blank\" href=https://colab.research.google.com/notebooks/data_table.ipynb>data table notebook</a>'\n",
              "          + ' to learn more about interactive tables.';\n",
              "        element.innerHTML = '';\n",
              "        dataTable['output_type'] = 'display_data';\n",
              "        await google.colab.output.renderOutput(dataTable, element);\n",
              "        const docLink = document.createElement('div');\n",
              "        docLink.innerHTML = docLinkHtml;\n",
              "        element.appendChild(docLink);\n",
              "      }\n",
              "    </script>\n",
              "  </div>\n",
              "\n",
              "\n",
              "    </div>\n",
              "  </div>\n"
            ],
            "application/vnd.google.colaboratory.intrinsic+json": {
              "type": "dataframe",
              "summary": "{\n  \"name\": \"weather\",\n  \"rows\": 1,\n  \"fields\": [\n    {\n      \"column\": \"YYYY\",\n      \"properties\": {\n        \"dtype\": \"number\",\n        \"std\": null,\n        \"min\": 2019,\n        \"max\": 2019,\n        \"num_unique_values\": 1,\n        \"samples\": [\n          2019\n        ],\n        \"semantic_type\": \"\",\n        \"description\": \"\"\n      }\n    },\n    {\n      \"column\": \"MM\",\n      \"properties\": {\n        \"dtype\": \"number\",\n        \"std\": null,\n        \"min\": 7,\n        \"max\": 7,\n        \"num_unique_values\": 1,\n        \"samples\": [\n          7\n        ],\n        \"semantic_type\": \"\",\n        \"description\": \"\"\n      }\n    }\n  ]\n}"
            }
          },
          "metadata": {},
          "execution_count": 7
        }
      ],
      "source": [
        "weather.query(\"Tmax==\" + str(weather.Tmax.max()))[[\"YYYY\", \"MM\"]]"
      ]
    },
    {
      "cell_type": "markdown",
      "id": "a9447c85",
      "metadata": {
        "id": "a9447c85"
      },
      "source": [
        "*Your text here*"
      ]
    },
    {
      "cell_type": "markdown",
      "id": "7b5b2d01",
      "metadata": {
        "id": "7b5b2d01"
      },
      "source": [
        "#### c. Display the 10 hottest days on record and comment\n",
        "\n",
        "Hint: you can use `df.sort_values()` and `df.head()` or `df.tail()` to help you here"
      ]
    },
    {
      "cell_type": "code",
      "execution_count": null,
      "id": "f78e1c16",
      "metadata": {
        "id": "f78e1c16"
      },
      "outputs": [],
      "source": [
        "# Your code here"
      ]
    },
    {
      "cell_type": "markdown",
      "id": "889a28cf",
      "metadata": {
        "id": "889a28cf"
      },
      "source": [
        "*Your comment here*"
      ]
    },
    {
      "cell_type": "markdown",
      "id": "21f1fef8",
      "metadata": {
        "id": "21f1fef8"
      },
      "source": [
        "#### d. Find the mean of maximum daily temperature (Tmax) for each month and comment\n",
        "\n",
        "Hint: you can use `df.groupby()` to help you here"
      ]
    },
    {
      "cell_type": "code",
      "execution_count": null,
      "id": "e9599bac",
      "metadata": {
        "id": "e9599bac"
      },
      "outputs": [],
      "source": [
        "# Your code here"
      ]
    },
    {
      "cell_type": "markdown",
      "id": "f0c017f3",
      "metadata": {
        "id": "f0c017f3"
      },
      "source": [
        "*Your comment here*"
      ]
    },
    {
      "cell_type": "markdown",
      "id": "1cd6748f",
      "metadata": {
        "id": "1cd6748f"
      },
      "source": [
        "#### e. Make a table displaying the mean and standard deviation of Tmax in each month\n",
        "\n",
        "Hint: A combination of `df.agg()` and `df.groupby()` will help you here"
      ]
    },
    {
      "cell_type": "code",
      "execution_count": null,
      "id": "6c6ff384",
      "metadata": {
        "id": "6c6ff384"
      },
      "outputs": [],
      "source": [
        "# Your code here"
      ]
    },
    {
      "cell_type": "markdown",
      "id": "8702df29",
      "metadata": {
        "id": "8702df29"
      },
      "source": [
        "#### e. Make a table displaying the mean of Tmax and Tmin in each month\n",
        "\n",
        "Hint: A combination of `df.agg()` and `df.groupby()` will help you here"
      ]
    },
    {
      "cell_type": "code",
      "execution_count": null,
      "id": "e2f4e1f2",
      "metadata": {
        "id": "e2f4e1f2"
      },
      "outputs": [],
      "source": [
        "# Your code here"
      ]
    },
    {
      "cell_type": "markdown",
      "id": "362931b5",
      "metadata": {
        "id": "362931b5"
      },
      "source": [
        "### Part 2: Rain"
      ]
    },
    {
      "cell_type": "markdown",
      "id": "14aca7b0",
      "metadata": {
        "id": "14aca7b0"
      },
      "source": [
        "#### a. Run this code block to add a column called <tt>wet</tt> containing a <tt>True</tt> for days on which it rained and <tt>False</tt> otherwise\n",
        "\n",
        "We will practice adding columns in a later session"
      ]
    },
    {
      "cell_type": "code",
      "execution_count": null,
      "id": "9070c6fb",
      "metadata": {
        "id": "9070c6fb",
        "outputId": "b6f983ae-5ebb-42b2-8624-b2051420a0cf"
      },
      "outputs": [
        {
          "data": {
            "text/html": [
              "<div>\n",
              "<style scoped>\n",
              "    .dataframe tbody tr th:only-of-type {\n",
              "        vertical-align: middle;\n",
              "    }\n",
              "\n",
              "    .dataframe tbody tr th {\n",
              "        vertical-align: top;\n",
              "    }\n",
              "\n",
              "    .dataframe thead th {\n",
              "        text-align: right;\n",
              "    }\n",
              "</style>\n",
              "<table border=\"1\" class=\"dataframe\">\n",
              "  <thead>\n",
              "    <tr style=\"text-align: right;\">\n",
              "      <th></th>\n",
              "      <th>YYYY</th>\n",
              "      <th>Month</th>\n",
              "      <th>MM</th>\n",
              "      <th>DD</th>\n",
              "      <th>DD365</th>\n",
              "      <th>Tmax</th>\n",
              "      <th>Tmin</th>\n",
              "      <th>Tmean</th>\n",
              "      <th>Trange</th>\n",
              "      <th>Rainfall_mm</th>\n",
              "      <th>wet</th>\n",
              "    </tr>\n",
              "  </thead>\n",
              "  <tbody>\n",
              "    <tr>\n",
              "      <th>0</th>\n",
              "      <td>1827</td>\n",
              "      <td>Jan</td>\n",
              "      <td>1</td>\n",
              "      <td>1</td>\n",
              "      <td>1</td>\n",
              "      <td>8.3</td>\n",
              "      <td>5.6</td>\n",
              "      <td>7.0</td>\n",
              "      <td>2.7</td>\n",
              "      <td>0.0</td>\n",
              "      <td>False</td>\n",
              "    </tr>\n",
              "    <tr>\n",
              "      <th>1</th>\n",
              "      <td>1827</td>\n",
              "      <td>Jan</td>\n",
              "      <td>1</td>\n",
              "      <td>2</td>\n",
              "      <td>2</td>\n",
              "      <td>2.2</td>\n",
              "      <td>0.0</td>\n",
              "      <td>1.1</td>\n",
              "      <td>2.2</td>\n",
              "      <td>0.0</td>\n",
              "      <td>False</td>\n",
              "    </tr>\n",
              "    <tr>\n",
              "      <th>2</th>\n",
              "      <td>1827</td>\n",
              "      <td>Jan</td>\n",
              "      <td>1</td>\n",
              "      <td>3</td>\n",
              "      <td>3</td>\n",
              "      <td>-2.2</td>\n",
              "      <td>-8.3</td>\n",
              "      <td>-5.3</td>\n",
              "      <td>6.1</td>\n",
              "      <td>9.7</td>\n",
              "      <td>True</td>\n",
              "    </tr>\n",
              "    <tr>\n",
              "      <th>3</th>\n",
              "      <td>1827</td>\n",
              "      <td>Jan</td>\n",
              "      <td>1</td>\n",
              "      <td>4</td>\n",
              "      <td>4</td>\n",
              "      <td>-1.7</td>\n",
              "      <td>-7.8</td>\n",
              "      <td>-4.8</td>\n",
              "      <td>6.1</td>\n",
              "      <td>0.0</td>\n",
              "      <td>False</td>\n",
              "    </tr>\n",
              "    <tr>\n",
              "      <th>4</th>\n",
              "      <td>1827</td>\n",
              "      <td>Jan</td>\n",
              "      <td>1</td>\n",
              "      <td>5</td>\n",
              "      <td>5</td>\n",
              "      <td>0.0</td>\n",
              "      <td>-10.6</td>\n",
              "      <td>-5.3</td>\n",
              "      <td>10.6</td>\n",
              "      <td>0.0</td>\n",
              "      <td>False</td>\n",
              "    </tr>\n",
              "    <tr>\n",
              "      <th>...</th>\n",
              "      <td>...</td>\n",
              "      <td>...</td>\n",
              "      <td>...</td>\n",
              "      <td>...</td>\n",
              "      <td>...</td>\n",
              "      <td>...</td>\n",
              "      <td>...</td>\n",
              "      <td>...</td>\n",
              "      <td>...</td>\n",
              "      <td>...</td>\n",
              "      <td>...</td>\n",
              "    </tr>\n",
              "    <tr>\n",
              "      <th>71338</th>\n",
              "      <td>2022</td>\n",
              "      <td>Apr</td>\n",
              "      <td>4</td>\n",
              "      <td>26</td>\n",
              "      <td>116</td>\n",
              "      <td>15.2</td>\n",
              "      <td>4.1</td>\n",
              "      <td>9.7</td>\n",
              "      <td>11.1</td>\n",
              "      <td>0.0</td>\n",
              "      <td>False</td>\n",
              "    </tr>\n",
              "    <tr>\n",
              "      <th>71339</th>\n",
              "      <td>2022</td>\n",
              "      <td>Apr</td>\n",
              "      <td>4</td>\n",
              "      <td>27</td>\n",
              "      <td>117</td>\n",
              "      <td>10.7</td>\n",
              "      <td>2.6</td>\n",
              "      <td>6.7</td>\n",
              "      <td>8.1</td>\n",
              "      <td>0.0</td>\n",
              "      <td>False</td>\n",
              "    </tr>\n",
              "    <tr>\n",
              "      <th>71340</th>\n",
              "      <td>2022</td>\n",
              "      <td>Apr</td>\n",
              "      <td>4</td>\n",
              "      <td>28</td>\n",
              "      <td>118</td>\n",
              "      <td>12.7</td>\n",
              "      <td>3.9</td>\n",
              "      <td>8.3</td>\n",
              "      <td>8.8</td>\n",
              "      <td>0.0</td>\n",
              "      <td>False</td>\n",
              "    </tr>\n",
              "    <tr>\n",
              "      <th>71341</th>\n",
              "      <td>2022</td>\n",
              "      <td>Apr</td>\n",
              "      <td>4</td>\n",
              "      <td>29</td>\n",
              "      <td>119</td>\n",
              "      <td>11.7</td>\n",
              "      <td>6.7</td>\n",
              "      <td>9.2</td>\n",
              "      <td>5.0</td>\n",
              "      <td>0.0</td>\n",
              "      <td>False</td>\n",
              "    </tr>\n",
              "    <tr>\n",
              "      <th>71342</th>\n",
              "      <td>2022</td>\n",
              "      <td>Apr</td>\n",
              "      <td>4</td>\n",
              "      <td>30</td>\n",
              "      <td>120</td>\n",
              "      <td>17.6</td>\n",
              "      <td>1.0</td>\n",
              "      <td>9.3</td>\n",
              "      <td>16.6</td>\n",
              "      <td>0.0</td>\n",
              "      <td>False</td>\n",
              "    </tr>\n",
              "  </tbody>\n",
              "</table>\n",
              "<p>71343 rows × 11 columns</p>\n",
              "</div>"
            ],
            "text/plain": [
              "       YYYY Month  MM  DD  DD365  Tmax  Tmin  Tmean  Trange  Rainfall_mm  \\\n",
              "0      1827   Jan   1   1      1   8.3   5.6    7.0     2.7          0.0   \n",
              "1      1827   Jan   1   2      2   2.2   0.0    1.1     2.2          0.0   \n",
              "2      1827   Jan   1   3      3  -2.2  -8.3   -5.3     6.1          9.7   \n",
              "3      1827   Jan   1   4      4  -1.7  -7.8   -4.8     6.1          0.0   \n",
              "4      1827   Jan   1   5      5   0.0 -10.6   -5.3    10.6          0.0   \n",
              "...     ...   ...  ..  ..    ...   ...   ...    ...     ...          ...   \n",
              "71338  2022   Apr   4  26    116  15.2   4.1    9.7    11.1          0.0   \n",
              "71339  2022   Apr   4  27    117  10.7   2.6    6.7     8.1          0.0   \n",
              "71340  2022   Apr   4  28    118  12.7   3.9    8.3     8.8          0.0   \n",
              "71341  2022   Apr   4  29    119  11.7   6.7    9.2     5.0          0.0   \n",
              "71342  2022   Apr   4  30    120  17.6   1.0    9.3    16.6          0.0   \n",
              "\n",
              "         wet  \n",
              "0      False  \n",
              "1      False  \n",
              "2       True  \n",
              "3      False  \n",
              "4      False  \n",
              "...      ...  \n",
              "71338  False  \n",
              "71339  False  \n",
              "71340  False  \n",
              "71341  False  \n",
              "71342  False  \n",
              "\n",
              "[71343 rows x 11 columns]"
            ]
          },
          "execution_count": 9,
          "metadata": {},
          "output_type": "execute_result"
        }
      ],
      "source": [
        "# Your code here\n",
        "weather['wet']=weather.Rainfall_mm>0\n",
        "weather"
      ]
    },
    {
      "cell_type": "markdown",
      "id": "6c973ea7",
      "metadata": {
        "id": "6c973ea7"
      },
      "source": [
        "#### b. What is the proportion of wet days overall?\n",
        "\n",
        "Hint: The values <tt>True</tt> and <tt>False</tt> can be treated as <tt>1</tt> and <tt>0</tt> respectively.\n",
        "    \n",
        "To get the proportion of days on which <tt>wet==True</tt>, we can use a programmming trick which is to simply take the mean of the column <tt>wet</tt>:\n",
        "    \n",
        "* say there are 100 days in my sample\n",
        "    * say 66 of them, <tt>wet==True==1</tt>\n",
        "    * for the other 44, <tt>wet==False==0</tt>\n",
        "* If we take the mean, this gives us the proportion of wet days because we:\n",
        "    * add up all the values (answer=66)\n",
        "    * divide by the number of cases (100)\n",
        "    * result is 66/100 = 0.66 or 66%, the proportion of wet days"
      ]
    },
    {
      "cell_type": "code",
      "execution_count": null,
      "id": "26baa946",
      "metadata": {
        "id": "26baa946"
      },
      "outputs": [],
      "source": [
        "# your code here"
      ]
    },
    {
      "cell_type": "markdown",
      "id": "98581de1",
      "metadata": {
        "id": "98581de1"
      },
      "source": [
        "*Your text here*"
      ]
    },
    {
      "cell_type": "markdown",
      "id": "096e665d",
      "metadata": {
        "id": "096e665d"
      },
      "source": [
        "#### c. What is the proportion of wet days in each month? Comment on your findings\n",
        "\n",
        "Hint: use `df.groupby()`"
      ]
    },
    {
      "cell_type": "code",
      "execution_count": null,
      "id": "51153a39",
      "metadata": {
        "id": "51153a39"
      },
      "outputs": [],
      "source": [
        "# your code here\n"
      ]
    },
    {
      "cell_type": "markdown",
      "id": "f138aeea",
      "metadata": {
        "id": "f138aeea"
      },
      "source": [
        "*Your comments here*"
      ]
    },
    {
      "cell_type": "markdown",
      "id": "2df8dae1",
      "metadata": {
        "id": "2df8dae1"
      },
      "source": [
        "#### d. What is the mean quantity of rainfall (in mm) in each month? Comment on your findings"
      ]
    },
    {
      "cell_type": "code",
      "execution_count": null,
      "id": "da4b585b",
      "metadata": {
        "id": "da4b585b"
      },
      "outputs": [],
      "source": [
        "# your code here\n"
      ]
    },
    {
      "cell_type": "markdown",
      "id": "ff270f70",
      "metadata": {
        "id": "ff270f70"
      },
      "source": [
        "*Your comment here*"
      ]
    },
    {
      "cell_type": "markdown",
      "id": "621a10d9",
      "metadata": {
        "id": "621a10d9"
      },
      "source": [
        "#### e. Display the 10 wettest days on record and comment"
      ]
    },
    {
      "cell_type": "code",
      "execution_count": null,
      "id": "db492ec7",
      "metadata": {
        "id": "db492ec7"
      },
      "outputs": [],
      "source": [
        "# Your code here\n"
      ]
    },
    {
      "cell_type": "markdown",
      "id": "da7a8e91",
      "metadata": {
        "id": "da7a8e91"
      },
      "source": [
        "*Your comment here*"
      ]
    },
    {
      "cell_type": "markdown",
      "id": "38798a43",
      "metadata": {
        "id": "38798a43"
      },
      "source": [
        "#### f. Compare and contrast the different findings in part 2 c,d, and e\n",
        "\n",
        "Different descriptive statistics tell us different things about the same data!"
      ]
    },
    {
      "cell_type": "markdown",
      "id": "62e5de6a",
      "metadata": {
        "id": "62e5de6a"
      },
      "source": [
        "*Your comments here!*"
      ]
    },
    {
      "cell_type": "markdown",
      "id": "21480a01",
      "metadata": {
        "id": "21480a01"
      },
      "source": [
        "### Snow\n",
        "\n",
        "#### a. Create a dataframe <tt>WhiteChristmas</tt> containing the weather on Christmas day, for all the years in which there was a White Christmas\n",
        "\n",
        "Hint: we don't have a column telling us when is has snowed, but it is reasonable to assume this happens when the minimum temperature dips below zero, and Rainfall_mm is above zero."
      ]
    },
    {
      "cell_type": "code",
      "execution_count": null,
      "id": "29ec6741",
      "metadata": {
        "id": "29ec6741"
      },
      "outputs": [],
      "source": [
        "# Your code here\n",
        "# WhiteChristmas ="
      ]
    },
    {
      "cell_type": "markdown",
      "id": "a00193d2",
      "metadata": {
        "id": "a00193d2"
      },
      "source": [
        "#### b. Sort the dataframe <tt>WhiteChristmas</tt> by year and comment"
      ]
    },
    {
      "cell_type": "code",
      "execution_count": null,
      "id": "8bf2da6b",
      "metadata": {
        "id": "8bf2da6b"
      },
      "outputs": [],
      "source": [
        "# Your code here"
      ]
    },
    {
      "cell_type": "markdown",
      "id": "f62045b3",
      "metadata": {
        "id": "f62045b3"
      },
      "source": [
        "*Your comments here*"
      ]
    },
    {
      "cell_type": "markdown",
      "id": "e3656051",
      "metadata": {
        "id": "e3656051"
      },
      "source": [
        "#### c. Any issues with our definition of 'snow'?\n",
        "\n",
        "We defined snow as when the <tt>Tmin</tt> falls below zero and Rainfall is non-zero.\n",
        "\n",
        "* Do you think this over- or under- estiamtes the number of snowy days?\n",
        "* Why?"
      ]
    },
    {
      "cell_type": "markdown",
      "id": "bb5a99c8",
      "metadata": {
        "id": "bb5a99c8"
      },
      "source": [
        "*Your comments here*"
      ]
    },
    {
      "cell_type": "markdown",
      "id": "5f818f4e",
      "metadata": {
        "id": "5f818f4e"
      },
      "source": [
        "#### d. How common is 'proper' snowfall in Oxford?\n",
        "\n",
        "Let's focus on days with enough snowfall to make at least a tiny snowman! Assume that this happens when TMin is below zero and there is more than 4mm of rainfall\n",
        "\n",
        "* 4mm of rain makes about 5cm of soggy snow in Oxford conditions, although it would make a uch greater depth of powder in a cold dry atmosphere like Utah or Colorado\n",
        "\n",
        "Create a dataframe called <tt>SnowDays</tt> containing only days with enough snow to make a snowman.\n",
        "\n",
        "You can check how often this happened in recent years using `df.tail()`"
      ]
    },
    {
      "cell_type": "code",
      "execution_count": null,
      "id": "8a3a8710",
      "metadata": {
        "id": "8a3a8710"
      },
      "outputs": [],
      "source": [
        "# Your code here"
      ]
    },
    {
      "cell_type": "markdown",
      "id": "078e4501",
      "metadata": {
        "id": "078e4501"
      },
      "source": [
        "*Your comments here*\n",
        "\n"
      ]
    },
    {
      "cell_type": "code",
      "execution_count": null,
      "id": "48af32e3",
      "metadata": {
        "id": "48af32e3"
      },
      "outputs": [],
      "source": []
    }
  ],
  "metadata": {
    "kernelspec": {
      "display_name": "Python 3 (ipykernel)",
      "language": "python",
      "name": "python3"
    },
    "language_info": {
      "codemirror_mode": {
        "name": "ipython",
        "version": 3
      },
      "file_extension": ".py",
      "mimetype": "text/x-python",
      "name": "python",
      "nbconvert_exporter": "python",
      "pygments_lexer": "ipython3",
      "version": "3.11.13"
    },
    "colab": {
      "provenance": [],
      "include_colab_link": true
    }
  },
  "nbformat": 4,
  "nbformat_minor": 5
}