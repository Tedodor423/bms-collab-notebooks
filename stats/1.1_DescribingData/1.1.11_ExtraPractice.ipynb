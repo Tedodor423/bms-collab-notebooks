{
  "cells": [
    {
      "cell_type": "markdown",
      "metadata": {
        "id": "view-in-github",
        "colab_type": "text"
      },
      "source": [
        "<a href=\"https://colab.research.google.com/github/Tedodor423/bms-collab-notebooks/blob/main/stats/1.1_DescribingData/1.1.11_ExtraPractice.ipynb\" target=\"_parent\"><img src=\"https://colab.research.google.com/assets/colab-badge.svg\" alt=\"Open In Colab\"/></a>"
      ]
    },
    {
      "cell_type": "markdown",
      "id": "fdb2c761-c062-429d-8364-1b0d690b4c90",
      "metadata": {
        "id": "fdb2c761-c062-429d-8364-1b0d690b4c90"
      },
      "source": [
        "# Extra Practice\n",
        "\n",
        "This is meant to help you practise the same core skills you developed in the previous exercises. Completing these exercises are **optional** and only meant to provide a little extra practice if you want.\n",
        "\n",
        "\n",
        "### Set up Python Libraries\n",
        "\n",
        "As usual you will need to run this code block to import the relevant Python libraries"
      ]
    },
    {
      "cell_type": "code",
      "execution_count": null,
      "id": "938d9056-506d-43d0-96be-3645e747dfe0",
      "metadata": {
        "id": "938d9056-506d-43d0-96be-3645e747dfe0"
      },
      "outputs": [],
      "source": [
        "# Set-up Python libraries - you need to run this but you don't need to change it\n",
        "import numpy as np\n",
        "import matplotlib.pyplot as plt\n",
        "import scipy.stats as stats\n",
        "import pandas as pd\n",
        "import seaborn as sns\n",
        "sns.set_theme(style='white')\n",
        "import statsmodels.api as sm\n",
        "import statsmodels.formula.api as smf\n",
        "import warnings\n",
        "warnings.simplefilter('ignore', category=FutureWarning)"
      ]
    },
    {
      "cell_type": "markdown",
      "id": "3ae0f992-c854-4dcb-ad65-d11ac4cd1676",
      "metadata": {
        "id": "3ae0f992-c854-4dcb-ad65-d11ac4cd1676"
      },
      "source": [
        "### Import a dataset to work with\n",
        "\n",
        "Here we will read in a data set which covers a wide range of variables related to sleep and daily habits.\n",
        "\n",
        "* `Person ID`: An identifier for each individual.\n",
        "* `Gender`: The prefered gender identity of the person.\n",
        "* `Age`: The age of the person in years.\n",
        "* `Occupation`: The occupation or profession of the person.\n",
        "* `Sleep Duration` (hours): The number of hours the person sleeps per day.\n",
        "* `Quality of Sleep` (scale: 1-10): A subjective rating of the quality of sleep, ranging from 1 to 10.\n",
        "* `Physical Activity Level` (minutes/day): The number of minutes the person engages in physical activity daily.\n",
        "* `Stress Level (scale: 1-10)`: A subjective rating of the stress level experienced by the person, ranging from 1 to 10.\n",
        "* `BMI Category`: The BMI category of the person (e.g., Underweight, Normal, Overweight).\n",
        "* `Blood Pressure` (systolic/diastolic): The blood pressure measurement of the person, indicated as systolic pressure over diastolic pressure.\n",
        "* `Heart Rate` (bpm): The resting heart rate of the person in beats per minute.\n",
        "* `Daily Steps`: The number of steps the person takes per day.\n",
        "* `Sleep Disorder`: The presence or absence of a sleep disorder in the person (None, Insomnia, Sleep Apnea)."
      ]
    },
    {
      "cell_type": "code",
      "execution_count": null,
      "id": "c7df524d-0a0f-4ce9-bc9d-09e7f5b74f78",
      "metadata": {
        "id": "c7df524d-0a0f-4ce9-bc9d-09e7f5b74f78",
        "outputId": "f8036cd8-ea3e-4b1b-b630-96e904ef112a"
      },
      "outputs": [
        {
          "data": {
            "text/html": [
              "<div>\n",
              "<style scoped>\n",
              "    .dataframe tbody tr th:only-of-type {\n",
              "        vertical-align: middle;\n",
              "    }\n",
              "\n",
              "    .dataframe tbody tr th {\n",
              "        vertical-align: top;\n",
              "    }\n",
              "\n",
              "    .dataframe thead th {\n",
              "        text-align: right;\n",
              "    }\n",
              "</style>\n",
              "<table border=\"1\" class=\"dataframe\">\n",
              "  <thead>\n",
              "    <tr style=\"text-align: right;\">\n",
              "      <th></th>\n",
              "      <th>PersonID</th>\n",
              "      <th>Gender</th>\n",
              "      <th>Age</th>\n",
              "      <th>Occupation</th>\n",
              "      <th>SleepDuration</th>\n",
              "      <th>QualityofSleep</th>\n",
              "      <th>PhysicalActivityLevel</th>\n",
              "      <th>StressLevel</th>\n",
              "      <th>BMICategory</th>\n",
              "      <th>BloodPressure</th>\n",
              "      <th>HeartRate</th>\n",
              "      <th>DailySteps</th>\n",
              "      <th>SleepDisorder</th>\n",
              "    </tr>\n",
              "  </thead>\n",
              "  <tbody>\n",
              "    <tr>\n",
              "      <th>0</th>\n",
              "      <td>1</td>\n",
              "      <td>Male</td>\n",
              "      <td>27</td>\n",
              "      <td>Software Engineer</td>\n",
              "      <td>6.1</td>\n",
              "      <td>6</td>\n",
              "      <td>42</td>\n",
              "      <td>6</td>\n",
              "      <td>Overweight</td>\n",
              "      <td>126/83</td>\n",
              "      <td>77</td>\n",
              "      <td>4200</td>\n",
              "      <td>NaN</td>\n",
              "    </tr>\n",
              "    <tr>\n",
              "      <th>1</th>\n",
              "      <td>2</td>\n",
              "      <td>Male</td>\n",
              "      <td>28</td>\n",
              "      <td>Doctor</td>\n",
              "      <td>6.2</td>\n",
              "      <td>6</td>\n",
              "      <td>60</td>\n",
              "      <td>8</td>\n",
              "      <td>Normal</td>\n",
              "      <td>125/80</td>\n",
              "      <td>75</td>\n",
              "      <td>10000</td>\n",
              "      <td>NaN</td>\n",
              "    </tr>\n",
              "    <tr>\n",
              "      <th>2</th>\n",
              "      <td>3</td>\n",
              "      <td>Male</td>\n",
              "      <td>28</td>\n",
              "      <td>Doctor</td>\n",
              "      <td>6.2</td>\n",
              "      <td>6</td>\n",
              "      <td>60</td>\n",
              "      <td>8</td>\n",
              "      <td>Normal</td>\n",
              "      <td>125/80</td>\n",
              "      <td>75</td>\n",
              "      <td>10000</td>\n",
              "      <td>NaN</td>\n",
              "    </tr>\n",
              "    <tr>\n",
              "      <th>3</th>\n",
              "      <td>4</td>\n",
              "      <td>Male</td>\n",
              "      <td>28</td>\n",
              "      <td>Sales Representative</td>\n",
              "      <td>5.9</td>\n",
              "      <td>4</td>\n",
              "      <td>30</td>\n",
              "      <td>8</td>\n",
              "      <td>Obese</td>\n",
              "      <td>140/90</td>\n",
              "      <td>85</td>\n",
              "      <td>3000</td>\n",
              "      <td>Sleep Apnea</td>\n",
              "    </tr>\n",
              "    <tr>\n",
              "      <th>4</th>\n",
              "      <td>5</td>\n",
              "      <td>Male</td>\n",
              "      <td>28</td>\n",
              "      <td>Sales Representative</td>\n",
              "      <td>5.9</td>\n",
              "      <td>4</td>\n",
              "      <td>30</td>\n",
              "      <td>8</td>\n",
              "      <td>Obese</td>\n",
              "      <td>140/90</td>\n",
              "      <td>85</td>\n",
              "      <td>3000</td>\n",
              "      <td>Sleep Apnea</td>\n",
              "    </tr>\n",
              "    <tr>\n",
              "      <th>...</th>\n",
              "      <td>...</td>\n",
              "      <td>...</td>\n",
              "      <td>...</td>\n",
              "      <td>...</td>\n",
              "      <td>...</td>\n",
              "      <td>...</td>\n",
              "      <td>...</td>\n",
              "      <td>...</td>\n",
              "      <td>...</td>\n",
              "      <td>...</td>\n",
              "      <td>...</td>\n",
              "      <td>...</td>\n",
              "      <td>...</td>\n",
              "    </tr>\n",
              "    <tr>\n",
              "      <th>369</th>\n",
              "      <td>370</td>\n",
              "      <td>Female</td>\n",
              "      <td>59</td>\n",
              "      <td>Nurse</td>\n",
              "      <td>8.1</td>\n",
              "      <td>9</td>\n",
              "      <td>75</td>\n",
              "      <td>3</td>\n",
              "      <td>Overweight</td>\n",
              "      <td>140/95</td>\n",
              "      <td>68</td>\n",
              "      <td>7000</td>\n",
              "      <td>Sleep Apnea</td>\n",
              "    </tr>\n",
              "    <tr>\n",
              "      <th>370</th>\n",
              "      <td>371</td>\n",
              "      <td>Female</td>\n",
              "      <td>59</td>\n",
              "      <td>Nurse</td>\n",
              "      <td>8.0</td>\n",
              "      <td>9</td>\n",
              "      <td>75</td>\n",
              "      <td>3</td>\n",
              "      <td>Overweight</td>\n",
              "      <td>140/95</td>\n",
              "      <td>68</td>\n",
              "      <td>7000</td>\n",
              "      <td>Sleep Apnea</td>\n",
              "    </tr>\n",
              "    <tr>\n",
              "      <th>371</th>\n",
              "      <td>372</td>\n",
              "      <td>Female</td>\n",
              "      <td>59</td>\n",
              "      <td>Nurse</td>\n",
              "      <td>8.1</td>\n",
              "      <td>9</td>\n",
              "      <td>75</td>\n",
              "      <td>3</td>\n",
              "      <td>Overweight</td>\n",
              "      <td>140/95</td>\n",
              "      <td>68</td>\n",
              "      <td>7000</td>\n",
              "      <td>Sleep Apnea</td>\n",
              "    </tr>\n",
              "    <tr>\n",
              "      <th>372</th>\n",
              "      <td>373</td>\n",
              "      <td>Female</td>\n",
              "      <td>59</td>\n",
              "      <td>Nurse</td>\n",
              "      <td>8.1</td>\n",
              "      <td>9</td>\n",
              "      <td>75</td>\n",
              "      <td>3</td>\n",
              "      <td>Overweight</td>\n",
              "      <td>140/95</td>\n",
              "      <td>68</td>\n",
              "      <td>7000</td>\n",
              "      <td>Sleep Apnea</td>\n",
              "    </tr>\n",
              "    <tr>\n",
              "      <th>373</th>\n",
              "      <td>374</td>\n",
              "      <td>Female</td>\n",
              "      <td>59</td>\n",
              "      <td>Nurse</td>\n",
              "      <td>8.1</td>\n",
              "      <td>9</td>\n",
              "      <td>75</td>\n",
              "      <td>3</td>\n",
              "      <td>Overweight</td>\n",
              "      <td>140/95</td>\n",
              "      <td>68</td>\n",
              "      <td>7000</td>\n",
              "      <td>Sleep Apnea</td>\n",
              "    </tr>\n",
              "  </tbody>\n",
              "</table>\n",
              "<p>374 rows × 13 columns</p>\n",
              "</div>"
            ],
            "text/plain": [
              "     PersonID  Gender  Age            Occupation  SleepDuration  \\\n",
              "0           1    Male   27     Software Engineer            6.1   \n",
              "1           2    Male   28                Doctor            6.2   \n",
              "2           3    Male   28                Doctor            6.2   \n",
              "3           4    Male   28  Sales Representative            5.9   \n",
              "4           5    Male   28  Sales Representative            5.9   \n",
              "..        ...     ...  ...                   ...            ...   \n",
              "369       370  Female   59                 Nurse            8.1   \n",
              "370       371  Female   59                 Nurse            8.0   \n",
              "371       372  Female   59                 Nurse            8.1   \n",
              "372       373  Female   59                 Nurse            8.1   \n",
              "373       374  Female   59                 Nurse            8.1   \n",
              "\n",
              "     QualityofSleep  PhysicalActivityLevel  StressLevel BMICategory  \\\n",
              "0                 6                     42            6  Overweight   \n",
              "1                 6                     60            8      Normal   \n",
              "2                 6                     60            8      Normal   \n",
              "3                 4                     30            8       Obese   \n",
              "4                 4                     30            8       Obese   \n",
              "..              ...                    ...          ...         ...   \n",
              "369               9                     75            3  Overweight   \n",
              "370               9                     75            3  Overweight   \n",
              "371               9                     75            3  Overweight   \n",
              "372               9                     75            3  Overweight   \n",
              "373               9                     75            3  Overweight   \n",
              "\n",
              "    BloodPressure  HeartRate  DailySteps SleepDisorder  \n",
              "0          126/83         77        4200           NaN  \n",
              "1          125/80         75       10000           NaN  \n",
              "2          125/80         75       10000           NaN  \n",
              "3          140/90         85        3000   Sleep Apnea  \n",
              "4          140/90         85        3000   Sleep Apnea  \n",
              "..            ...        ...         ...           ...  \n",
              "369        140/95         68        7000   Sleep Apnea  \n",
              "370        140/95         68        7000   Sleep Apnea  \n",
              "371        140/95         68        7000   Sleep Apnea  \n",
              "372        140/95         68        7000   Sleep Apnea  \n",
              "373        140/95         68        7000   Sleep Apnea  \n",
              "\n",
              "[374 rows x 13 columns]"
            ]
          },
          "metadata": {},
          "output_type": "display_data"
        }
      ],
      "source": [
        "sleep = pd.read_csv(\"https://raw.githubusercontent.com/SageBoettcher/StatsCourseBook_2026/main/data/sleep_health_data.csv\")\n",
        "display(sleep)"
      ]
    },
    {
      "cell_type": "markdown",
      "id": "43817770-444d-4449-9d16-1e2c1e12dbe4",
      "metadata": {
        "id": "43817770-444d-4449-9d16-1e2c1e12dbe4"
      },
      "source": [
        "## Exercises\n",
        "\n",
        "In the following questions, you'll use **descriptive statistics** and **indexing** to explore questions about sleep and health.\n",
        "\n",
        "When you are asked to calculate a value (for example, a mean or standard deviation) rather than produce a full table, you should **report your answer in words** in the text box below the code block. This is exactly how you would do it in a written report.\n",
        "\n",
        "\n",
        "When the question asks you to “comment”, you are being asked to *interpret* the data. That is, explain what you notice, what patterns stand out, or what the numbers might mean in context. Use plain English and discuss your ideas with your tutor and classmates. Developing the skill of turning numbers into insight is one of the most important parts of learning data analysis.\n",
        "\n",
        "### Part 1: Sleep Duration\n",
        "\n",
        "a. What is the average sleep duration across all participants?"
      ]
    },
    {
      "cell_type": "code",
      "execution_count": null,
      "id": "d16f1a1d-a4d8-46d5-942d-da91ae5ce2e7",
      "metadata": {
        "id": "d16f1a1d-a4d8-46d5-942d-da91ae5ce2e7"
      },
      "outputs": [],
      "source": [
        "# Your code here"
      ]
    },
    {
      "cell_type": "markdown",
      "id": "67d2cc1d-1c6a-4231-a32b-607744840874",
      "metadata": {
        "id": "67d2cc1d-1c6a-4231-a32b-607744840874"
      },
      "source": [
        "*your text here*"
      ]
    },
    {
      "cell_type": "markdown",
      "id": "885257dc-10ad-40f3-86a4-3ad1b69e4063",
      "metadata": {
        "id": "885257dc-10ad-40f3-86a4-3ad1b69e4063"
      },
      "source": [
        "b. Compare the mean sleep duration across the Gender"
      ]
    },
    {
      "cell_type": "code",
      "execution_count": null,
      "id": "35bea762-0038-4ad2-a0d5-28d38e3692d3",
      "metadata": {
        "id": "35bea762-0038-4ad2-a0d5-28d38e3692d3"
      },
      "outputs": [],
      "source": [
        "# Your code here"
      ]
    },
    {
      "cell_type": "markdown",
      "id": "1e581d64-9a46-4709-96b7-faf9bba005d8",
      "metadata": {
        "id": "1e581d64-9a46-4709-96b7-faf9bba005d8"
      },
      "source": [
        "*your text here*"
      ]
    },
    {
      "cell_type": "markdown",
      "id": "f3613162-8994-4f19-91d3-f348ce288130",
      "metadata": {
        "id": "f3613162-8994-4f19-91d3-f348ce288130"
      },
      "source": [
        "c. Comment on your findings."
      ]
    },
    {
      "cell_type": "markdown",
      "id": "dbe627bc-7a19-4b93-8573-7a9f631ec248",
      "metadata": {
        "id": "dbe627bc-7a19-4b93-8573-7a9f631ec248"
      },
      "source": [
        "### Part 2: Stress and Activity\n",
        "\n",
        "a. What is the average **physical activity level**, **sleep duration**, and **DailySteps** for participants across stress levels?"
      ]
    },
    {
      "cell_type": "code",
      "execution_count": null,
      "id": "d53532b7-48fb-49ef-8ba7-3d5d90a2d445",
      "metadata": {
        "id": "d53532b7-48fb-49ef-8ba7-3d5d90a2d445"
      },
      "outputs": [],
      "source": [
        "# Your code here"
      ]
    },
    {
      "cell_type": "markdown",
      "id": "43c8f4fe-e23a-46fe-8b63-05565a33633f",
      "metadata": {
        "id": "43c8f4fe-e23a-46fe-8b63-05565a33633f"
      },
      "source": [
        "b. Split the data set into high stress and low stress individuals"
      ]
    },
    {
      "cell_type": "code",
      "execution_count": null,
      "id": "78af8233-b80f-4f95-9d27-b74e48e988c4",
      "metadata": {
        "id": "78af8233-b80f-4f95-9d27-b74e48e988c4"
      },
      "outputs": [],
      "source": [
        "# Your code here\n",
        "#highstress =\n",
        "#lowstress ="
      ]
    },
    {
      "cell_type": "markdown",
      "id": "28d11f8e-757d-4ebc-bd53-a5334a1bd117",
      "metadata": {
        "id": "28d11f8e-757d-4ebc-bd53-a5334a1bd117"
      },
      "source": [
        "c. Which group is most physically active?"
      ]
    },
    {
      "cell_type": "code",
      "execution_count": null,
      "id": "6129cf9d-59d6-4490-8ed4-0d689dfe5464",
      "metadata": {
        "id": "6129cf9d-59d6-4490-8ed4-0d689dfe5464"
      },
      "outputs": [],
      "source": [
        "# Your code here"
      ]
    },
    {
      "cell_type": "markdown",
      "id": "bd054161-db79-4c5c-a3cc-2423e812327c",
      "metadata": {
        "id": "bd054161-db79-4c5c-a3cc-2423e812327c"
      },
      "source": [
        "### Part 3: Age and Sleep\n",
        "\n",
        "a. What is the relationship between Age and Sleep"
      ]
    },
    {
      "cell_type": "code",
      "execution_count": null,
      "id": "13ca7b10-deaf-4a56-a95a-ed335a46d0c1",
      "metadata": {
        "id": "13ca7b10-deaf-4a56-a95a-ed335a46d0c1"
      },
      "outputs": [],
      "source": [
        "# Your code here"
      ]
    },
    {
      "cell_type": "markdown",
      "id": "f839efdb-85d3-47df-9bcc-42b54eb0066a",
      "metadata": {
        "id": "f839efdb-85d3-47df-9bcc-42b54eb0066a"
      },
      "source": [
        "b. What sort of things might explain this relationship"
      ]
    },
    {
      "cell_type": "markdown",
      "id": "07e08033-e4ea-4a07-80af-e841d2a57f03",
      "metadata": {
        "id": "07e08033-e4ea-4a07-80af-e841d2a57f03"
      },
      "source": [
        "*your text here*"
      ]
    },
    {
      "cell_type": "markdown",
      "id": "c4b2fdf0-1237-4ae8-a30b-0dd3f0557223",
      "metadata": {
        "id": "c4b2fdf0-1237-4ae8-a30b-0dd3f0557223"
      },
      "source": [
        "### Part 4: Open Exploration\n",
        "\n",
        "What other relationships might be interesting to explore?\n"
      ]
    },
    {
      "cell_type": "code",
      "execution_count": null,
      "id": "03861f19-664e-4b9f-9a62-030863dc84c8",
      "metadata": {
        "id": "03861f19-664e-4b9f-9a62-030863dc84c8"
      },
      "outputs": [],
      "source": []
    }
  ],
  "metadata": {
    "kernelspec": {
      "display_name": "Python 3 (ipykernel)",
      "language": "python",
      "name": "python3"
    },
    "language_info": {
      "codemirror_mode": {
        "name": "ipython",
        "version": 3
      },
      "file_extension": ".py",
      "mimetype": "text/x-python",
      "name": "python",
      "nbconvert_exporter": "python",
      "pygments_lexer": "ipython3",
      "version": "3.11.13"
    },
    "colab": {
      "provenance": [],
      "include_colab_link": true
    }
  },
  "nbformat": 4,
  "nbformat_minor": 5
}